{
  "nbformat": 4,
  "nbformat_minor": 0,
  "metadata": {
    "colab": {
      "provenance": [],
      "authorship_tag": "ABX9TyO+EzjnPXHvklsZQ4559nPl",
      "include_colab_link": true
    },
    "kernelspec": {
      "name": "python3",
      "display_name": "Python 3"
    },
    "language_info": {
      "name": "python"
    }
  },
  "cells": [
    {
      "cell_type": "markdown",
      "metadata": {
        "id": "view-in-github",
        "colab_type": "text"
      },
      "source": [
        "<a href=\"https://colab.research.google.com/github/Emilyjane994/Machine-Learning-sunbusrt-plot/blob/main/ML_sunburst_plot.ipynb\" target=\"_parent\"><img src=\"https://colab.research.google.com/assets/colab-badge.svg\" alt=\"Open In Colab\"/></a>"
      ]
    },
    {
      "cell_type": "code",
      "source": [
        "from google.colab import files \n",
        "a=files.upload()"
      ],
      "metadata": {
        "colab": {
          "base_uri": "https://localhost:8080/",
          "height": 73
        },
        "id": "FYFS7kRWBJsq",
        "outputId": "42025b36-904e-4144-fb41-0b2e7cc86339"
      },
      "execution_count": null,
      "outputs": [
        {
          "output_type": "display_data",
          "data": {
            "text/plain": [
              "<IPython.core.display.HTML object>"
            ],
            "text/html": [
              "\n",
              "     <input type=\"file\" id=\"files-88ea5362-64f3-40bc-9d18-20c3f917e9cf\" name=\"files[]\" multiple disabled\n",
              "        style=\"border:none\" />\n",
              "     <output id=\"result-88ea5362-64f3-40bc-9d18-20c3f917e9cf\">\n",
              "      Upload widget is only available when the cell has been executed in the\n",
              "      current browser session. Please rerun this cell to enable.\n",
              "      </output>\n",
              "      <script>// Copyright 2017 Google LLC\n",
              "//\n",
              "// Licensed under the Apache License, Version 2.0 (the \"License\");\n",
              "// you may not use this file except in compliance with the License.\n",
              "// You may obtain a copy of the License at\n",
              "//\n",
              "//      http://www.apache.org/licenses/LICENSE-2.0\n",
              "//\n",
              "// Unless required by applicable law or agreed to in writing, software\n",
              "// distributed under the License is distributed on an \"AS IS\" BASIS,\n",
              "// WITHOUT WARRANTIES OR CONDITIONS OF ANY KIND, either express or implied.\n",
              "// See the License for the specific language governing permissions and\n",
              "// limitations under the License.\n",
              "\n",
              "/**\n",
              " * @fileoverview Helpers for google.colab Python module.\n",
              " */\n",
              "(function(scope) {\n",
              "function span(text, styleAttributes = {}) {\n",
              "  const element = document.createElement('span');\n",
              "  element.textContent = text;\n",
              "  for (const key of Object.keys(styleAttributes)) {\n",
              "    element.style[key] = styleAttributes[key];\n",
              "  }\n",
              "  return element;\n",
              "}\n",
              "\n",
              "// Max number of bytes which will be uploaded at a time.\n",
              "const MAX_PAYLOAD_SIZE = 100 * 1024;\n",
              "\n",
              "function _uploadFiles(inputId, outputId) {\n",
              "  const steps = uploadFilesStep(inputId, outputId);\n",
              "  const outputElement = document.getElementById(outputId);\n",
              "  // Cache steps on the outputElement to make it available for the next call\n",
              "  // to uploadFilesContinue from Python.\n",
              "  outputElement.steps = steps;\n",
              "\n",
              "  return _uploadFilesContinue(outputId);\n",
              "}\n",
              "\n",
              "// This is roughly an async generator (not supported in the browser yet),\n",
              "// where there are multiple asynchronous steps and the Python side is going\n",
              "// to poll for completion of each step.\n",
              "// This uses a Promise to block the python side on completion of each step,\n",
              "// then passes the result of the previous step as the input to the next step.\n",
              "function _uploadFilesContinue(outputId) {\n",
              "  const outputElement = document.getElementById(outputId);\n",
              "  const steps = outputElement.steps;\n",
              "\n",
              "  const next = steps.next(outputElement.lastPromiseValue);\n",
              "  return Promise.resolve(next.value.promise).then((value) => {\n",
              "    // Cache the last promise value to make it available to the next\n",
              "    // step of the generator.\n",
              "    outputElement.lastPromiseValue = value;\n",
              "    return next.value.response;\n",
              "  });\n",
              "}\n",
              "\n",
              "/**\n",
              " * Generator function which is called between each async step of the upload\n",
              " * process.\n",
              " * @param {string} inputId Element ID of the input file picker element.\n",
              " * @param {string} outputId Element ID of the output display.\n",
              " * @return {!Iterable<!Object>} Iterable of next steps.\n",
              " */\n",
              "function* uploadFilesStep(inputId, outputId) {\n",
              "  const inputElement = document.getElementById(inputId);\n",
              "  inputElement.disabled = false;\n",
              "\n",
              "  const outputElement = document.getElementById(outputId);\n",
              "  outputElement.innerHTML = '';\n",
              "\n",
              "  const pickedPromise = new Promise((resolve) => {\n",
              "    inputElement.addEventListener('change', (e) => {\n",
              "      resolve(e.target.files);\n",
              "    });\n",
              "  });\n",
              "\n",
              "  const cancel = document.createElement('button');\n",
              "  inputElement.parentElement.appendChild(cancel);\n",
              "  cancel.textContent = 'Cancel upload';\n",
              "  const cancelPromise = new Promise((resolve) => {\n",
              "    cancel.onclick = () => {\n",
              "      resolve(null);\n",
              "    };\n",
              "  });\n",
              "\n",
              "  // Wait for the user to pick the files.\n",
              "  const files = yield {\n",
              "    promise: Promise.race([pickedPromise, cancelPromise]),\n",
              "    response: {\n",
              "      action: 'starting',\n",
              "    }\n",
              "  };\n",
              "\n",
              "  cancel.remove();\n",
              "\n",
              "  // Disable the input element since further picks are not allowed.\n",
              "  inputElement.disabled = true;\n",
              "\n",
              "  if (!files) {\n",
              "    return {\n",
              "      response: {\n",
              "        action: 'complete',\n",
              "      }\n",
              "    };\n",
              "  }\n",
              "\n",
              "  for (const file of files) {\n",
              "    const li = document.createElement('li');\n",
              "    li.append(span(file.name, {fontWeight: 'bold'}));\n",
              "    li.append(span(\n",
              "        `(${file.type || 'n/a'}) - ${file.size} bytes, ` +\n",
              "        `last modified: ${\n",
              "            file.lastModifiedDate ? file.lastModifiedDate.toLocaleDateString() :\n",
              "                                    'n/a'} - `));\n",
              "    const percent = span('0% done');\n",
              "    li.appendChild(percent);\n",
              "\n",
              "    outputElement.appendChild(li);\n",
              "\n",
              "    const fileDataPromise = new Promise((resolve) => {\n",
              "      const reader = new FileReader();\n",
              "      reader.onload = (e) => {\n",
              "        resolve(e.target.result);\n",
              "      };\n",
              "      reader.readAsArrayBuffer(file);\n",
              "    });\n",
              "    // Wait for the data to be ready.\n",
              "    let fileData = yield {\n",
              "      promise: fileDataPromise,\n",
              "      response: {\n",
              "        action: 'continue',\n",
              "      }\n",
              "    };\n",
              "\n",
              "    // Use a chunked sending to avoid message size limits. See b/62115660.\n",
              "    let position = 0;\n",
              "    do {\n",
              "      const length = Math.min(fileData.byteLength - position, MAX_PAYLOAD_SIZE);\n",
              "      const chunk = new Uint8Array(fileData, position, length);\n",
              "      position += length;\n",
              "\n",
              "      const base64 = btoa(String.fromCharCode.apply(null, chunk));\n",
              "      yield {\n",
              "        response: {\n",
              "          action: 'append',\n",
              "          file: file.name,\n",
              "          data: base64,\n",
              "        },\n",
              "      };\n",
              "\n",
              "      let percentDone = fileData.byteLength === 0 ?\n",
              "          100 :\n",
              "          Math.round((position / fileData.byteLength) * 100);\n",
              "      percent.textContent = `${percentDone}% done`;\n",
              "\n",
              "    } while (position < fileData.byteLength);\n",
              "  }\n",
              "\n",
              "  // All done.\n",
              "  yield {\n",
              "    response: {\n",
              "      action: 'complete',\n",
              "    }\n",
              "  };\n",
              "}\n",
              "\n",
              "scope.google = scope.google || {};\n",
              "scope.google.colab = scope.google.colab || {};\n",
              "scope.google.colab._files = {\n",
              "  _uploadFiles,\n",
              "  _uploadFilesContinue,\n",
              "};\n",
              "})(self);\n",
              "</script> "
            ]
          },
          "metadata": {}
        },
        {
          "output_type": "stream",
          "name": "stdout",
          "text": [
            "Saving MLFinal2.csv to MLFinal2.csv\n"
          ]
        }
      ]
    },
    {
      "cell_type": "code",
      "source": [
        "import pandas as pd"
      ],
      "metadata": {
        "id": "3wPyPARUBVAr"
      },
      "execution_count": null,
      "outputs": []
    },
    {
      "cell_type": "code",
      "source": [
        "dff=pd.read_csv('MLFinal2.csv')"
      ],
      "metadata": {
        "id": "er7HWkLuCFRm"
      },
      "execution_count": null,
      "outputs": []
    },
    {
      "cell_type": "code",
      "source": [
        "dff.head(10)"
      ],
      "metadata": {
        "colab": {
          "base_uri": "https://localhost:8080/",
          "height": 363
        },
        "id": "4kbFLkGmCNC6",
        "outputId": "4cf32fe8-3a62-4c52-dfce-8050d345a7ff"
      },
      "execution_count": null,
      "outputs": [
        {
          "output_type": "execute_result",
          "data": {
            "text/plain": [
              "   Machine Learning      Parent          Labels                          Types\n",
              "0  Machine Learning  Supervised  Classification            k-Nearest Neighbors\n",
              "1  Machine Learning  Supervised  Classification                 Decision Trees\n",
              "2  Machine Learning  Supervised  Classification                  Random Forest\n",
              "3  Machine Learning  Supervised  Classification        Support Vector Machines\n",
              "4  Machine Learning  Supervised  Classification                    Naive Bayes\n",
              "5  Machine Learning  Supervised  Classification            Logistic Regression\n",
              "6  Machine Learning  Supervised  Classification     Artificial Neural Networks\n",
              "7  Machine Learning  Supervised  Classification  Linear Discriminant Analysis \n",
              "8  Machine Learning  Supervised  Classification     Gradient Boosting Machines\n",
              "9  Machine Learning  Supervised  Classification                       AdaBoost"
            ],
            "text/html": [
              "\n",
              "  <div id=\"df-7e5df2df-b6d7-4882-827d-684a7dbf4070\">\n",
              "    <div class=\"colab-df-container\">\n",
              "      <div>\n",
              "<style scoped>\n",
              "    .dataframe tbody tr th:only-of-type {\n",
              "        vertical-align: middle;\n",
              "    }\n",
              "\n",
              "    .dataframe tbody tr th {\n",
              "        vertical-align: top;\n",
              "    }\n",
              "\n",
              "    .dataframe thead th {\n",
              "        text-align: right;\n",
              "    }\n",
              "</style>\n",
              "<table border=\"1\" class=\"dataframe\">\n",
              "  <thead>\n",
              "    <tr style=\"text-align: right;\">\n",
              "      <th></th>\n",
              "      <th>Machine Learning</th>\n",
              "      <th>Parent</th>\n",
              "      <th>Labels</th>\n",
              "      <th>Types</th>\n",
              "    </tr>\n",
              "  </thead>\n",
              "  <tbody>\n",
              "    <tr>\n",
              "      <th>0</th>\n",
              "      <td>Machine Learning</td>\n",
              "      <td>Supervised</td>\n",
              "      <td>Classification</td>\n",
              "      <td>k-Nearest Neighbors</td>\n",
              "    </tr>\n",
              "    <tr>\n",
              "      <th>1</th>\n",
              "      <td>Machine Learning</td>\n",
              "      <td>Supervised</td>\n",
              "      <td>Classification</td>\n",
              "      <td>Decision Trees</td>\n",
              "    </tr>\n",
              "    <tr>\n",
              "      <th>2</th>\n",
              "      <td>Machine Learning</td>\n",
              "      <td>Supervised</td>\n",
              "      <td>Classification</td>\n",
              "      <td>Random Forest</td>\n",
              "    </tr>\n",
              "    <tr>\n",
              "      <th>3</th>\n",
              "      <td>Machine Learning</td>\n",
              "      <td>Supervised</td>\n",
              "      <td>Classification</td>\n",
              "      <td>Support Vector Machines</td>\n",
              "    </tr>\n",
              "    <tr>\n",
              "      <th>4</th>\n",
              "      <td>Machine Learning</td>\n",
              "      <td>Supervised</td>\n",
              "      <td>Classification</td>\n",
              "      <td>Naive Bayes</td>\n",
              "    </tr>\n",
              "    <tr>\n",
              "      <th>5</th>\n",
              "      <td>Machine Learning</td>\n",
              "      <td>Supervised</td>\n",
              "      <td>Classification</td>\n",
              "      <td>Logistic Regression</td>\n",
              "    </tr>\n",
              "    <tr>\n",
              "      <th>6</th>\n",
              "      <td>Machine Learning</td>\n",
              "      <td>Supervised</td>\n",
              "      <td>Classification</td>\n",
              "      <td>Artificial Neural Networks</td>\n",
              "    </tr>\n",
              "    <tr>\n",
              "      <th>7</th>\n",
              "      <td>Machine Learning</td>\n",
              "      <td>Supervised</td>\n",
              "      <td>Classification</td>\n",
              "      <td>Linear Discriminant Analysis</td>\n",
              "    </tr>\n",
              "    <tr>\n",
              "      <th>8</th>\n",
              "      <td>Machine Learning</td>\n",
              "      <td>Supervised</td>\n",
              "      <td>Classification</td>\n",
              "      <td>Gradient Boosting Machines</td>\n",
              "    </tr>\n",
              "    <tr>\n",
              "      <th>9</th>\n",
              "      <td>Machine Learning</td>\n",
              "      <td>Supervised</td>\n",
              "      <td>Classification</td>\n",
              "      <td>AdaBoost</td>\n",
              "    </tr>\n",
              "  </tbody>\n",
              "</table>\n",
              "</div>\n",
              "      <button class=\"colab-df-convert\" onclick=\"convertToInteractive('df-7e5df2df-b6d7-4882-827d-684a7dbf4070')\"\n",
              "              title=\"Convert this dataframe to an interactive table.\"\n",
              "              style=\"display:none;\">\n",
              "        \n",
              "  <svg xmlns=\"http://www.w3.org/2000/svg\" height=\"24px\"viewBox=\"0 0 24 24\"\n",
              "       width=\"24px\">\n",
              "    <path d=\"M0 0h24v24H0V0z\" fill=\"none\"/>\n",
              "    <path d=\"M18.56 5.44l.94 2.06.94-2.06 2.06-.94-2.06-.94-.94-2.06-.94 2.06-2.06.94zm-11 1L8.5 8.5l.94-2.06 2.06-.94-2.06-.94L8.5 2.5l-.94 2.06-2.06.94zm10 10l.94 2.06.94-2.06 2.06-.94-2.06-.94-.94-2.06-.94 2.06-2.06.94z\"/><path d=\"M17.41 7.96l-1.37-1.37c-.4-.4-.92-.59-1.43-.59-.52 0-1.04.2-1.43.59L10.3 9.45l-7.72 7.72c-.78.78-.78 2.05 0 2.83L4 21.41c.39.39.9.59 1.41.59.51 0 1.02-.2 1.41-.59l7.78-7.78 2.81-2.81c.8-.78.8-2.07 0-2.86zM5.41 20L4 18.59l7.72-7.72 1.47 1.35L5.41 20z\"/>\n",
              "  </svg>\n",
              "      </button>\n",
              "      \n",
              "  <style>\n",
              "    .colab-df-container {\n",
              "      display:flex;\n",
              "      flex-wrap:wrap;\n",
              "      gap: 12px;\n",
              "    }\n",
              "\n",
              "    .colab-df-convert {\n",
              "      background-color: #E8F0FE;\n",
              "      border: none;\n",
              "      border-radius: 50%;\n",
              "      cursor: pointer;\n",
              "      display: none;\n",
              "      fill: #1967D2;\n",
              "      height: 32px;\n",
              "      padding: 0 0 0 0;\n",
              "      width: 32px;\n",
              "    }\n",
              "\n",
              "    .colab-df-convert:hover {\n",
              "      background-color: #E2EBFA;\n",
              "      box-shadow: 0px 1px 2px rgba(60, 64, 67, 0.3), 0px 1px 3px 1px rgba(60, 64, 67, 0.15);\n",
              "      fill: #174EA6;\n",
              "    }\n",
              "\n",
              "    [theme=dark] .colab-df-convert {\n",
              "      background-color: #3B4455;\n",
              "      fill: #D2E3FC;\n",
              "    }\n",
              "\n",
              "    [theme=dark] .colab-df-convert:hover {\n",
              "      background-color: #434B5C;\n",
              "      box-shadow: 0px 1px 3px 1px rgba(0, 0, 0, 0.15);\n",
              "      filter: drop-shadow(0px 1px 2px rgba(0, 0, 0, 0.3));\n",
              "      fill: #FFFFFF;\n",
              "    }\n",
              "  </style>\n",
              "\n",
              "      <script>\n",
              "        const buttonEl =\n",
              "          document.querySelector('#df-7e5df2df-b6d7-4882-827d-684a7dbf4070 button.colab-df-convert');\n",
              "        buttonEl.style.display =\n",
              "          google.colab.kernel.accessAllowed ? 'block' : 'none';\n",
              "\n",
              "        async function convertToInteractive(key) {\n",
              "          const element = document.querySelector('#df-7e5df2df-b6d7-4882-827d-684a7dbf4070');\n",
              "          const dataTable =\n",
              "            await google.colab.kernel.invokeFunction('convertToInteractive',\n",
              "                                                     [key], {});\n",
              "          if (!dataTable) return;\n",
              "\n",
              "          const docLinkHtml = 'Like what you see? Visit the ' +\n",
              "            '<a target=\"_blank\" href=https://colab.research.google.com/notebooks/data_table.ipynb>data table notebook</a>'\n",
              "            + ' to learn more about interactive tables.';\n",
              "          element.innerHTML = '';\n",
              "          dataTable['output_type'] = 'display_data';\n",
              "          await google.colab.output.renderOutput(dataTable, element);\n",
              "          const docLink = document.createElement('div');\n",
              "          docLink.innerHTML = docLinkHtml;\n",
              "          element.appendChild(docLink);\n",
              "        }\n",
              "      </script>\n",
              "    </div>\n",
              "  </div>\n",
              "  "
            ]
          },
          "metadata": {},
          "execution_count": 8
        }
      ]
    },
    {
      "cell_type": "code",
      "source": [
        "!pip install plotly\n",
        "!pip install dash"
      ],
      "metadata": {
        "colab": {
          "base_uri": "https://localhost:8080/"
        },
        "id": "o_6ZG8SvCR21",
        "outputId": "06112aa0-a2f2-47a7-992b-d114db104152"
      },
      "execution_count": null,
      "outputs": [
        {
          "output_type": "stream",
          "name": "stdout",
          "text": [
            "Looking in indexes: https://pypi.org/simple, https://us-python.pkg.dev/colab-wheels/public/simple/\n",
            "Requirement already satisfied: plotly in /usr/local/lib/python3.10/dist-packages (5.13.1)\n",
            "Requirement already satisfied: tenacity>=6.2.0 in /usr/local/lib/python3.10/dist-packages (from plotly) (8.2.2)\n",
            "Looking in indexes: https://pypi.org/simple, https://us-python.pkg.dev/colab-wheels/public/simple/\n",
            "Collecting dash\n",
            "  Downloading dash-2.9.3-py3-none-any.whl (10.2 MB)\n",
            "\u001b[2K     \u001b[90m━━━━━━━━━━━━━━━━━━━━━━━━━━━━━━━━━━━━━━━━\u001b[0m \u001b[32m10.2/10.2 MB\u001b[0m \u001b[31m51.2 MB/s\u001b[0m eta \u001b[36m0:00:00\u001b[0m\n",
            "\u001b[?25hRequirement already satisfied: Flask>=1.0.4 in /usr/local/lib/python3.10/dist-packages (from dash) (2.2.4)\n",
            "Requirement already satisfied: plotly>=5.0.0 in /usr/local/lib/python3.10/dist-packages (from dash) (5.13.1)\n",
            "Collecting dash-html-components==2.0.0 (from dash)\n",
            "  Downloading dash_html_components-2.0.0-py3-none-any.whl (4.1 kB)\n",
            "Collecting dash-core-components==2.0.0 (from dash)\n",
            "  Downloading dash_core_components-2.0.0-py3-none-any.whl (3.8 kB)\n",
            "Collecting dash-table==5.0.0 (from dash)\n",
            "  Downloading dash_table-5.0.0-py3-none-any.whl (3.9 kB)\n",
            "Requirement already satisfied: Werkzeug>=2.2.2 in /usr/local/lib/python3.10/dist-packages (from Flask>=1.0.4->dash) (2.3.0)\n",
            "Requirement already satisfied: Jinja2>=3.0 in /usr/local/lib/python3.10/dist-packages (from Flask>=1.0.4->dash) (3.1.2)\n",
            "Requirement already satisfied: itsdangerous>=2.0 in /usr/local/lib/python3.10/dist-packages (from Flask>=1.0.4->dash) (2.1.2)\n",
            "Requirement already satisfied: click>=8.0 in /usr/local/lib/python3.10/dist-packages (from Flask>=1.0.4->dash) (8.1.3)\n",
            "Requirement already satisfied: tenacity>=6.2.0 in /usr/local/lib/python3.10/dist-packages (from plotly>=5.0.0->dash) (8.2.2)\n",
            "Requirement already satisfied: MarkupSafe>=2.0 in /usr/local/lib/python3.10/dist-packages (from Jinja2>=3.0->Flask>=1.0.4->dash) (2.1.2)\n",
            "Installing collected packages: dash-table, dash-html-components, dash-core-components, dash\n",
            "Successfully installed dash-2.9.3 dash-core-components-2.0.0 dash-html-components-2.0.0 dash-table-5.0.0\n"
          ]
        }
      ]
    },
    {
      "cell_type": "code",
      "source": [
        "import plotly.express as px"
      ],
      "metadata": {
        "id": "AxFTQXLdCbQI"
      },
      "execution_count": null,
      "outputs": []
    },
    {
      "cell_type": "code",
      "source": [
        "import plotly.express as px\n",
        "import pandas as pd\n",
        "\n",
        "\n",
        "# create the sunburst plot\n",
        "fig = px.sunburst(dff, path=['Machine Learning','Parent','Labels', 'Types'])\n",
        "\n",
        "# show the plot\n",
        "fig.show()\n"
      ],
      "metadata": {
        "colab": {
          "base_uri": "https://localhost:8080/",
          "height": 542
        },
        "id": "WARWVjKXCgBU",
        "outputId": "d251f3cd-a088-448d-9eef-eaa6a7197fec"
      },
      "execution_count": null,
      "outputs": [
        {
          "output_type": "display_data",
          "data": {
            "text/html": [
              "<html>\n",
              "<head><meta charset=\"utf-8\" /></head>\n",
              "<body>\n",
              "    <div>            <script src=\"https://cdnjs.cloudflare.com/ajax/libs/mathjax/2.7.5/MathJax.js?config=TeX-AMS-MML_SVG\"></script><script type=\"text/javascript\">if (window.MathJax && window.MathJax.Hub && window.MathJax.Hub.Config) {window.MathJax.Hub.Config({SVG: {font: \"STIX-Web\"}});}</script>                <script type=\"text/javascript\">window.PlotlyConfig = {MathJaxConfig: 'local'};</script>\n",
              "        <script src=\"https://cdn.plot.ly/plotly-2.18.2.min.js\"></script>                <div id=\"d00e5f9b-f791-4927-8efa-00cc472621b1\" class=\"plotly-graph-div\" style=\"height:525px; width:100%;\"></div>            <script type=\"text/javascript\">                                    window.PLOTLYENV=window.PLOTLYENV || {};                                    if (document.getElementById(\"d00e5f9b-f791-4927-8efa-00cc472621b1\")) {                    Plotly.newPlot(                        \"d00e5f9b-f791-4927-8efa-00cc472621b1\",                        [{\"branchvalues\":\"total\",\"domain\":{\"x\":[0.0,1.0],\"y\":[0.0,1.0]},\"hovertemplate\":\"labels=%{label}<br>count=%{value}<br>parent=%{parent}<br>id=%{id}<extra></extra>\",\"ids\":[\"Machine Learning/Reinforcement Learning /Policy-Based Methods /Actor-Critic Methods\",\"Machine Learning/Supervised/Classification/AdaBoost\",\"Machine Learning/Unsupervised /Clustering /Affinity propagation\",\"Machine Learning/Unsupervised /Clustering /Agglomerative clustering\",\"Machine Learning/Supervised/Classification/Artificial Neural Networks\",\"Machine Learning/Reinforcement Learning /Policy-Based Methods /Asynchronous Advantage Actor-Critic\",\"Machine Learning/Unsupervised /Dimensionality Reduction /Autoencoders\",\"Machine Learning/Unsupervised /Clustering /BIRCH (Balanced Iterative Reducing and Clustering using Hierarchies)\",\"Machine Learning/Deep Learning /Generative Adversarial Networks /Conditional GAN\",\"Machine Learning/Supervised/Classification/Decision Trees\",\"Machine Learning/Supervised/Regression /Decision tree regression\",\"Machine Learning/Deep Learning /Generative Adversarial Networks /Deep Conolutional GAN\",\"Machine Learning/Deep Learning /Convolutional Network /Deep Convolutional Network\",\"Machine Learning/Reinforcement Learning /Policy-Based Methods /Deep Deterministic Policy Gradient\",\"Machine Learning/Deep Learning /Feed Forward Neural Networks /Deep Feed Forward\",\"Machine Learning/Reinforcement Learning /Value Based Methods /Deep Q-Networks\",\"Machine Learning/Deep Learning /Auto Encoders/Denoising Auto Encoder\",\"Machine Learning/Unsupervised /Clustering /Density-Based Spatial Clustering of Applications with Noise\",\"Machine Learning/Supervised/Regression /Elastic Net regression\",\"Machine Learning/Unsupervised /Dimensionality Reduction /Factor Analysis of Mixed Data\",\"Machine Learning/Deep Learning /Feed Forward Neural Networks /Feed Forward\",\"Machine Learning/Deep Learning /Recurrent Neural Networks/Gated Recurrent Unit\",\"Machine Learning/Unsupervised /Clustering /Gaussian mixture models\",\"Machine Learning/Deep Learning /Generative Adversarial Networks /Generative Adversarial Network\",\"Machine Learning/Supervised/Classification/Gradient Boosting Machines\",\"Machine Learning/Supervised/Regression /Gradient boosting regression\",\"Machine Learning/Unsupervised /Clustering /Hierarchical clustering\",\"Machine Learning/Unsupervised /Dimensionality Reduction /Independent Component Analysis\",\"Machine Learning/Unsupervised /Dimensionality Reduction /Isomap\",\"Machine Learning/Supervised/Regression /K-Nearest Neighbors Regression\",\"Machine Learning/Unsupervised /Clustering /K-means clustering\",\"Machine Learning/Semi-Supervised /Label Propagation /Label Propagation \",\"Machine Learning/Semi-Supervised /Label Spreading/Label Spreading\",\"Machine Learning/Supervised/Regression /Lasso regression\",\"Machine Learning/Unsupervised /Dimensionality Reduction /Linear Discriminant Analysis\",\"Machine Learning/Supervised/Classification/Linear Discriminant Analysis \",\"Machine Learning/Supervised/Regression /Linear regression\",\"Machine Learning/Supervised/Classification/Logistic Regression\",\"Machine Learning/Deep Learning /Recurrent Neural Networks/Long Short Term Memory\",\"Machine Learning/Unsupervised /Clustering /Mean-shift clustering\",\"Machine Learning/Reinforcement Learning /Policy-Based Methods /Multi-Agent Deep Deterministic Policy Gradient\",\"Machine Learning/Unsupervised /Dimensionality Reduction /Multidimensional Scaling\",\"Machine Learning/Supervised/Regression /Multiple regression\",\"Machine Learning/Supervised/Classification/Naive Bayes\",\"Machine Learning/Unsupervised /Dimensionality Reduction /Non-negative Matrix Factorization \",\"Machine Learning/Unsupervised /Clustering /OPTICS (Ordering Points To Identify the Clustering Structure)\",\"Machine Learning/Reinforcement Learning /Policy-Based Methods /Policy Gradient Methods\",\"Machine Learning/Supervised/Regression /Polynomial regression\",\"Machine Learning/Unsupervised /Dimensionality Reduction /Principal Component Analysis \",\"Machine Learning/Reinforcement Learning /Policy-Based Methods /Proximal Policy Optimization \",\"Machine Learning/Reinforcement Learning /Value Based Methods /Q-learning\",\"Machine Learning/Supervised/Classification/Random Forest\",\"Machine Learning/Unsupervised /Dimensionality Reduction /Random Projection\",\"Machine Learning/Supervised/Regression /Random forest regression\",\"Machine Learning/Deep Learning /Recurrent Neural Networks/Recurrent Neural Network\",\"Machine Learning/Supervised/Regression /Ridge regression\",\"Machine Learning/Reinforcement Learning /Value Based Methods /SARSA (State-Action-Reward-State-Action)\",\"Machine Learning/Semi-Supervised /Self-Training Classifier /Self-Training Classifier \",\"Machine Learning/Unsupervised /Dimensionality Reduction /Singular Value Decomposition\",\"Machine Learning/Reinforcement Learning /Policy-Based Methods /Soft Actor-Critic\",\"Machine Learning/Deep Learning /Auto Encoders/Sparse Auto Encoder \",\"Machine Learning/Unsupervised /Clustering /Spectral clustering\",\"Machine Learning/Supervised/Classification/Support Vector Machines\",\"Machine Learning/Supervised/Regression /Support Vector Regression \",\"Machine Learning/Deep Learning /Convolutional Network /Transposed Convolutional Network \",\"Machine Learning/Reinforcement Learning /Policy-Based Methods /Trust Region Policy Optimization\",\"Machine Learning/Deep Learning /Auto Encoders/Undercomplete Auto Encoder \",\"Machine Learning/Deep Learning /Auto Encoders/Variational Auto Encoder \",\"Machine Learning/Deep Learning /Generative Adversarial Networks /Wasserstein Gan\",\"Machine Learning/Supervised/Classification/k-Nearest Neighbors\",\"Machine Learning/Unsupervised /Dimensionality Reduction /t-Distributed Stochastic Neighbor Embedding\",\"Machine Learning/Deep Learning /Auto Encoders\",\"Machine Learning/Supervised/Classification\",\"Machine Learning/Unsupervised /Clustering \",\"Machine Learning/Deep Learning /Convolutional Network \",\"Machine Learning/Unsupervised /Dimensionality Reduction \",\"Machine Learning/Deep Learning /Feed Forward Neural Networks \",\"Machine Learning/Deep Learning /Generative Adversarial Networks \",\"Machine Learning/Semi-Supervised /Label Propagation \",\"Machine Learning/Semi-Supervised /Label Spreading\",\"Machine Learning/Reinforcement Learning /Policy-Based Methods \",\"Machine Learning/Deep Learning /Recurrent Neural Networks\",\"Machine Learning/Supervised/Regression \",\"Machine Learning/Semi-Supervised /Self-Training Classifier \",\"Machine Learning/Reinforcement Learning /Value Based Methods \",\"Machine Learning/Deep Learning \",\"Machine Learning/Reinforcement Learning \",\"Machine Learning/Semi-Supervised \",\"Machine Learning/Supervised\",\"Machine Learning/Unsupervised \",\"Machine Learning\"],\"labels\":[\"Actor-Critic Methods\",\"AdaBoost\",\"Affinity propagation\",\"Agglomerative clustering\",\"Artificial Neural Networks\",\"Asynchronous Advantage Actor-Critic\",\"Autoencoders\",\"BIRCH (Balanced Iterative Reducing and Clustering using Hierarchies)\",\"Conditional GAN\",\"Decision Trees\",\"Decision tree regression\",\"Deep Conolutional GAN\",\"Deep Convolutional Network\",\"Deep Deterministic Policy Gradient\",\"Deep Feed Forward\",\"Deep Q-Networks\",\"Denoising Auto Encoder\",\"Density-Based Spatial Clustering of Applications with Noise\",\"Elastic Net regression\",\"Factor Analysis of Mixed Data\",\"Feed Forward\",\"Gated Recurrent Unit\",\"Gaussian mixture models\",\"Generative Adversarial Network\",\"Gradient Boosting Machines\",\"Gradient boosting regression\",\"Hierarchical clustering\",\"Independent Component Analysis\",\"Isomap\",\"K-Nearest Neighbors Regression\",\"K-means clustering\",\"Label Propagation \",\"Label Spreading\",\"Lasso regression\",\"Linear Discriminant Analysis\",\"Linear Discriminant Analysis \",\"Linear regression\",\"Logistic Regression\",\"Long Short Term Memory\",\"Mean-shift clustering\",\"Multi-Agent Deep Deterministic Policy Gradient\",\"Multidimensional Scaling\",\"Multiple regression\",\"Naive Bayes\",\"Non-negative Matrix Factorization \",\"OPTICS (Ordering Points To Identify the Clustering Structure)\",\"Policy Gradient Methods\",\"Polynomial regression\",\"Principal Component Analysis \",\"Proximal Policy Optimization \",\"Q-learning\",\"Random Forest\",\"Random Projection\",\"Random forest regression\",\"Recurrent Neural Network\",\"Ridge regression\",\"SARSA (State-Action-Reward-State-Action)\",\"Self-Training Classifier \",\"Singular Value Decomposition\",\"Soft Actor-Critic\",\"Sparse Auto Encoder \",\"Spectral clustering\",\"Support Vector Machines\",\"Support Vector Regression \",\"Transposed Convolutional Network \",\"Trust Region Policy Optimization\",\"Undercomplete Auto Encoder \",\"Variational Auto Encoder \",\"Wasserstein Gan\",\"k-Nearest Neighbors\",\"t-Distributed Stochastic Neighbor Embedding\",\"Auto Encoders\",\"Classification\",\"Clustering \",\"Convolutional Network \",\"Dimensionality Reduction \",\"Feed Forward Neural Networks \",\"Generative Adversarial Networks \",\"Label Propagation \",\"Label Spreading\",\"Policy-Based Methods \",\"Recurrent Neural Networks\",\"Regression \",\"Self-Training Classifier \",\"Value Based Methods \",\"Deep Learning \",\"Reinforcement Learning \",\"Semi-Supervised \",\"Supervised\",\"Unsupervised \",\"Machine Learning\"],\"name\":\"\",\"parents\":[\"Machine Learning/Reinforcement Learning /Policy-Based Methods \",\"Machine Learning/Supervised/Classification\",\"Machine Learning/Unsupervised /Clustering \",\"Machine Learning/Unsupervised /Clustering \",\"Machine Learning/Supervised/Classification\",\"Machine Learning/Reinforcement Learning /Policy-Based Methods \",\"Machine Learning/Unsupervised /Dimensionality Reduction \",\"Machine Learning/Unsupervised /Clustering \",\"Machine Learning/Deep Learning /Generative Adversarial Networks \",\"Machine Learning/Supervised/Classification\",\"Machine Learning/Supervised/Regression \",\"Machine Learning/Deep Learning /Generative Adversarial Networks \",\"Machine Learning/Deep Learning /Convolutional Network \",\"Machine Learning/Reinforcement Learning /Policy-Based Methods \",\"Machine Learning/Deep Learning /Feed Forward Neural Networks \",\"Machine Learning/Reinforcement Learning /Value Based Methods \",\"Machine Learning/Deep Learning /Auto Encoders\",\"Machine Learning/Unsupervised /Clustering \",\"Machine Learning/Supervised/Regression \",\"Machine Learning/Unsupervised /Dimensionality Reduction \",\"Machine Learning/Deep Learning /Feed Forward Neural Networks \",\"Machine Learning/Deep Learning /Recurrent Neural Networks\",\"Machine Learning/Unsupervised /Clustering \",\"Machine Learning/Deep Learning /Generative Adversarial Networks \",\"Machine Learning/Supervised/Classification\",\"Machine Learning/Supervised/Regression \",\"Machine Learning/Unsupervised /Clustering \",\"Machine Learning/Unsupervised /Dimensionality Reduction \",\"Machine Learning/Unsupervised /Dimensionality Reduction \",\"Machine Learning/Supervised/Regression \",\"Machine Learning/Unsupervised /Clustering \",\"Machine Learning/Semi-Supervised /Label Propagation \",\"Machine Learning/Semi-Supervised /Label Spreading\",\"Machine Learning/Supervised/Regression \",\"Machine Learning/Unsupervised /Dimensionality Reduction \",\"Machine Learning/Supervised/Classification\",\"Machine Learning/Supervised/Regression \",\"Machine Learning/Supervised/Classification\",\"Machine Learning/Deep Learning /Recurrent Neural Networks\",\"Machine Learning/Unsupervised /Clustering \",\"Machine Learning/Reinforcement Learning /Policy-Based Methods \",\"Machine Learning/Unsupervised /Dimensionality Reduction \",\"Machine Learning/Supervised/Regression \",\"Machine Learning/Supervised/Classification\",\"Machine Learning/Unsupervised /Dimensionality Reduction \",\"Machine Learning/Unsupervised /Clustering \",\"Machine Learning/Reinforcement Learning /Policy-Based Methods \",\"Machine Learning/Supervised/Regression \",\"Machine Learning/Unsupervised /Dimensionality Reduction \",\"Machine Learning/Reinforcement Learning /Policy-Based Methods \",\"Machine Learning/Reinforcement Learning /Value Based Methods \",\"Machine Learning/Supervised/Classification\",\"Machine Learning/Unsupervised /Dimensionality Reduction \",\"Machine Learning/Supervised/Regression \",\"Machine Learning/Deep Learning /Recurrent Neural Networks\",\"Machine Learning/Supervised/Regression \",\"Machine Learning/Reinforcement Learning /Value Based Methods \",\"Machine Learning/Semi-Supervised /Self-Training Classifier \",\"Machine Learning/Unsupervised /Dimensionality Reduction \",\"Machine Learning/Reinforcement Learning /Policy-Based Methods \",\"Machine Learning/Deep Learning /Auto Encoders\",\"Machine Learning/Unsupervised /Clustering \",\"Machine Learning/Supervised/Classification\",\"Machine Learning/Supervised/Regression \",\"Machine Learning/Deep Learning /Convolutional Network \",\"Machine Learning/Reinforcement Learning /Policy-Based Methods \",\"Machine Learning/Deep Learning /Auto Encoders\",\"Machine Learning/Deep Learning /Auto Encoders\",\"Machine Learning/Deep Learning /Generative Adversarial Networks \",\"Machine Learning/Supervised/Classification\",\"Machine Learning/Unsupervised /Dimensionality Reduction \",\"Machine Learning/Deep Learning \",\"Machine Learning/Supervised\",\"Machine Learning/Unsupervised \",\"Machine Learning/Deep Learning \",\"Machine Learning/Unsupervised \",\"Machine Learning/Deep Learning \",\"Machine Learning/Deep Learning \",\"Machine Learning/Semi-Supervised \",\"Machine Learning/Semi-Supervised \",\"Machine Learning/Reinforcement Learning \",\"Machine Learning/Deep Learning \",\"Machine Learning/Supervised\",\"Machine Learning/Semi-Supervised \",\"Machine Learning/Reinforcement Learning \",\"Machine Learning\",\"Machine Learning\",\"Machine Learning\",\"Machine Learning\",\"Machine Learning\",\"\"],\"values\":[1,1,1,1,1,1,1,1,1,1,1,1,1,1,1,1,1,1,1,1,1,1,1,1,1,1,1,1,1,1,1,1,1,1,1,1,1,1,1,1,1,1,1,1,1,1,1,1,1,1,1,1,1,1,1,1,1,1,1,1,1,1,1,1,1,1,1,1,1,1,1,4,10,10,2,11,2,4,1,1,8,3,11,1,3,15,11,3,21,21,71],\"type\":\"sunburst\"}],                        {\"template\":{\"data\":{\"histogram2dcontour\":[{\"type\":\"histogram2dcontour\",\"colorbar\":{\"outlinewidth\":0,\"ticks\":\"\"},\"colorscale\":[[0.0,\"#0d0887\"],[0.1111111111111111,\"#46039f\"],[0.2222222222222222,\"#7201a8\"],[0.3333333333333333,\"#9c179e\"],[0.4444444444444444,\"#bd3786\"],[0.5555555555555556,\"#d8576b\"],[0.6666666666666666,\"#ed7953\"],[0.7777777777777778,\"#fb9f3a\"],[0.8888888888888888,\"#fdca26\"],[1.0,\"#f0f921\"]]}],\"choropleth\":[{\"type\":\"choropleth\",\"colorbar\":{\"outlinewidth\":0,\"ticks\":\"\"}}],\"histogram2d\":[{\"type\":\"histogram2d\",\"colorbar\":{\"outlinewidth\":0,\"ticks\":\"\"},\"colorscale\":[[0.0,\"#0d0887\"],[0.1111111111111111,\"#46039f\"],[0.2222222222222222,\"#7201a8\"],[0.3333333333333333,\"#9c179e\"],[0.4444444444444444,\"#bd3786\"],[0.5555555555555556,\"#d8576b\"],[0.6666666666666666,\"#ed7953\"],[0.7777777777777778,\"#fb9f3a\"],[0.8888888888888888,\"#fdca26\"],[1.0,\"#f0f921\"]]}],\"heatmap\":[{\"type\":\"heatmap\",\"colorbar\":{\"outlinewidth\":0,\"ticks\":\"\"},\"colorscale\":[[0.0,\"#0d0887\"],[0.1111111111111111,\"#46039f\"],[0.2222222222222222,\"#7201a8\"],[0.3333333333333333,\"#9c179e\"],[0.4444444444444444,\"#bd3786\"],[0.5555555555555556,\"#d8576b\"],[0.6666666666666666,\"#ed7953\"],[0.7777777777777778,\"#fb9f3a\"],[0.8888888888888888,\"#fdca26\"],[1.0,\"#f0f921\"]]}],\"heatmapgl\":[{\"type\":\"heatmapgl\",\"colorbar\":{\"outlinewidth\":0,\"ticks\":\"\"},\"colorscale\":[[0.0,\"#0d0887\"],[0.1111111111111111,\"#46039f\"],[0.2222222222222222,\"#7201a8\"],[0.3333333333333333,\"#9c179e\"],[0.4444444444444444,\"#bd3786\"],[0.5555555555555556,\"#d8576b\"],[0.6666666666666666,\"#ed7953\"],[0.7777777777777778,\"#fb9f3a\"],[0.8888888888888888,\"#fdca26\"],[1.0,\"#f0f921\"]]}],\"contourcarpet\":[{\"type\":\"contourcarpet\",\"colorbar\":{\"outlinewidth\":0,\"ticks\":\"\"}}],\"contour\":[{\"type\":\"contour\",\"colorbar\":{\"outlinewidth\":0,\"ticks\":\"\"},\"colorscale\":[[0.0,\"#0d0887\"],[0.1111111111111111,\"#46039f\"],[0.2222222222222222,\"#7201a8\"],[0.3333333333333333,\"#9c179e\"],[0.4444444444444444,\"#bd3786\"],[0.5555555555555556,\"#d8576b\"],[0.6666666666666666,\"#ed7953\"],[0.7777777777777778,\"#fb9f3a\"],[0.8888888888888888,\"#fdca26\"],[1.0,\"#f0f921\"]]}],\"surface\":[{\"type\":\"surface\",\"colorbar\":{\"outlinewidth\":0,\"ticks\":\"\"},\"colorscale\":[[0.0,\"#0d0887\"],[0.1111111111111111,\"#46039f\"],[0.2222222222222222,\"#7201a8\"],[0.3333333333333333,\"#9c179e\"],[0.4444444444444444,\"#bd3786\"],[0.5555555555555556,\"#d8576b\"],[0.6666666666666666,\"#ed7953\"],[0.7777777777777778,\"#fb9f3a\"],[0.8888888888888888,\"#fdca26\"],[1.0,\"#f0f921\"]]}],\"mesh3d\":[{\"type\":\"mesh3d\",\"colorbar\":{\"outlinewidth\":0,\"ticks\":\"\"}}],\"scatter\":[{\"fillpattern\":{\"fillmode\":\"overlay\",\"size\":10,\"solidity\":0.2},\"type\":\"scatter\"}],\"parcoords\":[{\"type\":\"parcoords\",\"line\":{\"colorbar\":{\"outlinewidth\":0,\"ticks\":\"\"}}}],\"scatterpolargl\":[{\"type\":\"scatterpolargl\",\"marker\":{\"colorbar\":{\"outlinewidth\":0,\"ticks\":\"\"}}}],\"bar\":[{\"error_x\":{\"color\":\"#2a3f5f\"},\"error_y\":{\"color\":\"#2a3f5f\"},\"marker\":{\"line\":{\"color\":\"#E5ECF6\",\"width\":0.5},\"pattern\":{\"fillmode\":\"overlay\",\"size\":10,\"solidity\":0.2}},\"type\":\"bar\"}],\"scattergeo\":[{\"type\":\"scattergeo\",\"marker\":{\"colorbar\":{\"outlinewidth\":0,\"ticks\":\"\"}}}],\"scatterpolar\":[{\"type\":\"scatterpolar\",\"marker\":{\"colorbar\":{\"outlinewidth\":0,\"ticks\":\"\"}}}],\"histogram\":[{\"marker\":{\"pattern\":{\"fillmode\":\"overlay\",\"size\":10,\"solidity\":0.2}},\"type\":\"histogram\"}],\"scattergl\":[{\"type\":\"scattergl\",\"marker\":{\"colorbar\":{\"outlinewidth\":0,\"ticks\":\"\"}}}],\"scatter3d\":[{\"type\":\"scatter3d\",\"line\":{\"colorbar\":{\"outlinewidth\":0,\"ticks\":\"\"}},\"marker\":{\"colorbar\":{\"outlinewidth\":0,\"ticks\":\"\"}}}],\"scattermapbox\":[{\"type\":\"scattermapbox\",\"marker\":{\"colorbar\":{\"outlinewidth\":0,\"ticks\":\"\"}}}],\"scatterternary\":[{\"type\":\"scatterternary\",\"marker\":{\"colorbar\":{\"outlinewidth\":0,\"ticks\":\"\"}}}],\"scattercarpet\":[{\"type\":\"scattercarpet\",\"marker\":{\"colorbar\":{\"outlinewidth\":0,\"ticks\":\"\"}}}],\"carpet\":[{\"aaxis\":{\"endlinecolor\":\"#2a3f5f\",\"gridcolor\":\"white\",\"linecolor\":\"white\",\"minorgridcolor\":\"white\",\"startlinecolor\":\"#2a3f5f\"},\"baxis\":{\"endlinecolor\":\"#2a3f5f\",\"gridcolor\":\"white\",\"linecolor\":\"white\",\"minorgridcolor\":\"white\",\"startlinecolor\":\"#2a3f5f\"},\"type\":\"carpet\"}],\"table\":[{\"cells\":{\"fill\":{\"color\":\"#EBF0F8\"},\"line\":{\"color\":\"white\"}},\"header\":{\"fill\":{\"color\":\"#C8D4E3\"},\"line\":{\"color\":\"white\"}},\"type\":\"table\"}],\"barpolar\":[{\"marker\":{\"line\":{\"color\":\"#E5ECF6\",\"width\":0.5},\"pattern\":{\"fillmode\":\"overlay\",\"size\":10,\"solidity\":0.2}},\"type\":\"barpolar\"}],\"pie\":[{\"automargin\":true,\"type\":\"pie\"}]},\"layout\":{\"autotypenumbers\":\"strict\",\"colorway\":[\"#636efa\",\"#EF553B\",\"#00cc96\",\"#ab63fa\",\"#FFA15A\",\"#19d3f3\",\"#FF6692\",\"#B6E880\",\"#FF97FF\",\"#FECB52\"],\"font\":{\"color\":\"#2a3f5f\"},\"hovermode\":\"closest\",\"hoverlabel\":{\"align\":\"left\"},\"paper_bgcolor\":\"white\",\"plot_bgcolor\":\"#E5ECF6\",\"polar\":{\"bgcolor\":\"#E5ECF6\",\"angularaxis\":{\"gridcolor\":\"white\",\"linecolor\":\"white\",\"ticks\":\"\"},\"radialaxis\":{\"gridcolor\":\"white\",\"linecolor\":\"white\",\"ticks\":\"\"}},\"ternary\":{\"bgcolor\":\"#E5ECF6\",\"aaxis\":{\"gridcolor\":\"white\",\"linecolor\":\"white\",\"ticks\":\"\"},\"baxis\":{\"gridcolor\":\"white\",\"linecolor\":\"white\",\"ticks\":\"\"},\"caxis\":{\"gridcolor\":\"white\",\"linecolor\":\"white\",\"ticks\":\"\"}},\"coloraxis\":{\"colorbar\":{\"outlinewidth\":0,\"ticks\":\"\"}},\"colorscale\":{\"sequential\":[[0.0,\"#0d0887\"],[0.1111111111111111,\"#46039f\"],[0.2222222222222222,\"#7201a8\"],[0.3333333333333333,\"#9c179e\"],[0.4444444444444444,\"#bd3786\"],[0.5555555555555556,\"#d8576b\"],[0.6666666666666666,\"#ed7953\"],[0.7777777777777778,\"#fb9f3a\"],[0.8888888888888888,\"#fdca26\"],[1.0,\"#f0f921\"]],\"sequentialminus\":[[0.0,\"#0d0887\"],[0.1111111111111111,\"#46039f\"],[0.2222222222222222,\"#7201a8\"],[0.3333333333333333,\"#9c179e\"],[0.4444444444444444,\"#bd3786\"],[0.5555555555555556,\"#d8576b\"],[0.6666666666666666,\"#ed7953\"],[0.7777777777777778,\"#fb9f3a\"],[0.8888888888888888,\"#fdca26\"],[1.0,\"#f0f921\"]],\"diverging\":[[0,\"#8e0152\"],[0.1,\"#c51b7d\"],[0.2,\"#de77ae\"],[0.3,\"#f1b6da\"],[0.4,\"#fde0ef\"],[0.5,\"#f7f7f7\"],[0.6,\"#e6f5d0\"],[0.7,\"#b8e186\"],[0.8,\"#7fbc41\"],[0.9,\"#4d9221\"],[1,\"#276419\"]]},\"xaxis\":{\"gridcolor\":\"white\",\"linecolor\":\"white\",\"ticks\":\"\",\"title\":{\"standoff\":15},\"zerolinecolor\":\"white\",\"automargin\":true,\"zerolinewidth\":2},\"yaxis\":{\"gridcolor\":\"white\",\"linecolor\":\"white\",\"ticks\":\"\",\"title\":{\"standoff\":15},\"zerolinecolor\":\"white\",\"automargin\":true,\"zerolinewidth\":2},\"scene\":{\"xaxis\":{\"backgroundcolor\":\"#E5ECF6\",\"gridcolor\":\"white\",\"linecolor\":\"white\",\"showbackground\":true,\"ticks\":\"\",\"zerolinecolor\":\"white\",\"gridwidth\":2},\"yaxis\":{\"backgroundcolor\":\"#E5ECF6\",\"gridcolor\":\"white\",\"linecolor\":\"white\",\"showbackground\":true,\"ticks\":\"\",\"zerolinecolor\":\"white\",\"gridwidth\":2},\"zaxis\":{\"backgroundcolor\":\"#E5ECF6\",\"gridcolor\":\"white\",\"linecolor\":\"white\",\"showbackground\":true,\"ticks\":\"\",\"zerolinecolor\":\"white\",\"gridwidth\":2}},\"shapedefaults\":{\"line\":{\"color\":\"#2a3f5f\"}},\"annotationdefaults\":{\"arrowcolor\":\"#2a3f5f\",\"arrowhead\":0,\"arrowwidth\":1},\"geo\":{\"bgcolor\":\"white\",\"landcolor\":\"#E5ECF6\",\"subunitcolor\":\"white\",\"showland\":true,\"showlakes\":true,\"lakecolor\":\"white\"},\"title\":{\"x\":0.05},\"mapbox\":{\"style\":\"light\"}}},\"legend\":{\"tracegroupgap\":0},\"margin\":{\"t\":60}},                        {\"responsive\": true}                    ).then(function(){\n",
              "                            \n",
              "var gd = document.getElementById('d00e5f9b-f791-4927-8efa-00cc472621b1');\n",
              "var x = new MutationObserver(function (mutations, observer) {{\n",
              "        var display = window.getComputedStyle(gd).display;\n",
              "        if (!display || display === 'none') {{\n",
              "            console.log([gd, 'removed!']);\n",
              "            Plotly.purge(gd);\n",
              "            observer.disconnect();\n",
              "        }}\n",
              "}});\n",
              "\n",
              "// Listen for the removal of the full notebook cells\n",
              "var notebookContainer = gd.closest('#notebook-container');\n",
              "if (notebookContainer) {{\n",
              "    x.observe(notebookContainer, {childList: true});\n",
              "}}\n",
              "\n",
              "// Listen for the clearing of the current output cell\n",
              "var outputEl = gd.closest('.output');\n",
              "if (outputEl) {{\n",
              "    x.observe(outputEl, {childList: true});\n",
              "}}\n",
              "\n",
              "                        })                };                            </script>        </div>\n",
              "</body>\n",
              "</html>"
            ]
          },
          "metadata": {}
        }
      ]
    },
    {
      "cell_type": "code",
      "source": [
        "import plotly.express as px\n",
        "import pandas as pd\n",
        "\n",
        "\n",
        "# create the sunburst plot\n",
        "fig = px.sunburst(dff, path=['Machine Learning','Parent','Labels', 'Types'],maxdepth=3)\n",
        "fig.update_layout(uniformtext_minsize=24)\n",
        "fig.show()\n",
        "fig.write_html(\"my_sunburst.html\")\n"
      ],
      "metadata": {
        "colab": {
          "base_uri": "https://localhost:8080/",
          "height": 542
        },
        "id": "wIKkxsYJXulH",
        "outputId": "3ed99d37-90c3-4519-d9cc-84911bdbccc3"
      },
      "execution_count": null,
      "outputs": [
        {
          "output_type": "display_data",
          "data": {
            "text/html": [
              "<html>\n",
              "<head><meta charset=\"utf-8\" /></head>\n",
              "<body>\n",
              "    <div>            <script src=\"https://cdnjs.cloudflare.com/ajax/libs/mathjax/2.7.5/MathJax.js?config=TeX-AMS-MML_SVG\"></script><script type=\"text/javascript\">if (window.MathJax && window.MathJax.Hub && window.MathJax.Hub.Config) {window.MathJax.Hub.Config({SVG: {font: \"STIX-Web\"}});}</script>                <script type=\"text/javascript\">window.PlotlyConfig = {MathJaxConfig: 'local'};</script>\n",
              "        <script src=\"https://cdn.plot.ly/plotly-2.18.2.min.js\"></script>                <div id=\"eacb0257-cb3b-45e7-8a2b-6f097bc2a784\" class=\"plotly-graph-div\" style=\"height:525px; width:100%;\"></div>            <script type=\"text/javascript\">                                    window.PLOTLYENV=window.PLOTLYENV || {};                                    if (document.getElementById(\"eacb0257-cb3b-45e7-8a2b-6f097bc2a784\")) {                    Plotly.newPlot(                        \"eacb0257-cb3b-45e7-8a2b-6f097bc2a784\",                        [{\"branchvalues\":\"total\",\"domain\":{\"x\":[0.0,1.0],\"y\":[0.0,1.0]},\"hovertemplate\":\"labels=%{label}<br>count=%{value}<br>parent=%{parent}<br>id=%{id}<extra></extra>\",\"ids\":[\"Machine Learning/Reinforcement Learning /Policy-Based Methods /Actor-Critic Methods\",\"Machine Learning/Supervised/Classification/AdaBoost\",\"Machine Learning/Unsupervised /Clustering /Affinity propagation\",\"Machine Learning/Unsupervised /Clustering /Agglomerative clustering\",\"Machine Learning/Supervised/Classification/Artificial Neural Networks\",\"Machine Learning/Reinforcement Learning /Policy-Based Methods /Asynchronous Advantage Actor-Critic\",\"Machine Learning/Unsupervised /Dimensionality Reduction /Autoencoders\",\"Machine Learning/Unsupervised /Clustering /BIRCH (Balanced Iterative Reducing and Clustering using Hierarchies)\",\"Machine Learning/Deep Learning /Generative Adversarial Networks /Conditional GAN\",\"Machine Learning/Supervised/Classification/Decision Trees\",\"Machine Learning/Supervised/Regression /Decision tree regression\",\"Machine Learning/Deep Learning /Generative Adversarial Networks /Deep Conolutional GAN\",\"Machine Learning/Deep Learning /Convolutional Network /Deep Convolutional Network\",\"Machine Learning/Reinforcement Learning /Policy-Based Methods /Deep Deterministic Policy Gradient\",\"Machine Learning/Deep Learning /Feed Forward Neural Networks /Deep Feed Forward\",\"Machine Learning/Reinforcement Learning /Value Based Methods /Deep Q-Networks\",\"Machine Learning/Deep Learning /Auto Encoders/Denoising Auto Encoder\",\"Machine Learning/Unsupervised /Clustering /Density-Based Spatial Clustering of Applications with Noise\",\"Machine Learning/Supervised/Regression /Elastic Net regression\",\"Machine Learning/Unsupervised /Dimensionality Reduction /Factor Analysis of Mixed Data\",\"Machine Learning/Deep Learning /Feed Forward Neural Networks /Feed Forward\",\"Machine Learning/Deep Learning /Recurrent Neural Networks/Gated Recurrent Unit\",\"Machine Learning/Unsupervised /Clustering /Gaussian mixture models\",\"Machine Learning/Deep Learning /Generative Adversarial Networks /Generative Adversarial Network\",\"Machine Learning/Supervised/Classification/Gradient Boosting Machines\",\"Machine Learning/Supervised/Regression /Gradient boosting regression\",\"Machine Learning/Unsupervised /Clustering /Hierarchical clustering\",\"Machine Learning/Unsupervised /Dimensionality Reduction /Independent Component Analysis\",\"Machine Learning/Unsupervised /Dimensionality Reduction /Isomap\",\"Machine Learning/Supervised/Regression /K-Nearest Neighbors Regression\",\"Machine Learning/Unsupervised /Clustering /K-means clustering\",\"Machine Learning/Semi-Supervised /Label Propagation /Label Propagation \",\"Machine Learning/Semi-Supervised /Label Spreading/Label Spreading\",\"Machine Learning/Supervised/Regression /Lasso regression\",\"Machine Learning/Unsupervised /Dimensionality Reduction /Linear Discriminant Analysis\",\"Machine Learning/Supervised/Classification/Linear Discriminant Analysis \",\"Machine Learning/Supervised/Regression /Linear regression\",\"Machine Learning/Supervised/Classification/Logistic Regression\",\"Machine Learning/Deep Learning /Recurrent Neural Networks/Long Short Term Memory\",\"Machine Learning/Unsupervised /Clustering /Mean-shift clustering\",\"Machine Learning/Reinforcement Learning /Policy-Based Methods /Multi-Agent Deep Deterministic Policy Gradient\",\"Machine Learning/Unsupervised /Dimensionality Reduction /Multidimensional Scaling\",\"Machine Learning/Supervised/Regression /Multiple regression\",\"Machine Learning/Supervised/Classification/Naive Bayes\",\"Machine Learning/Unsupervised /Dimensionality Reduction /Non-negative Matrix Factorization \",\"Machine Learning/Unsupervised /Clustering /OPTICS (Ordering Points To Identify the Clustering Structure)\",\"Machine Learning/Reinforcement Learning /Policy-Based Methods /Policy Gradient Methods\",\"Machine Learning/Supervised/Regression /Polynomial regression\",\"Machine Learning/Unsupervised /Dimensionality Reduction /Principal Component Analysis \",\"Machine Learning/Reinforcement Learning /Policy-Based Methods /Proximal Policy Optimization \",\"Machine Learning/Reinforcement Learning /Value Based Methods /Q-learning\",\"Machine Learning/Supervised/Classification/Random Forest\",\"Machine Learning/Unsupervised /Dimensionality Reduction /Random Projection\",\"Machine Learning/Supervised/Regression /Random forest regression\",\"Machine Learning/Deep Learning /Recurrent Neural Networks/Recurrent Neural Network\",\"Machine Learning/Supervised/Regression /Ridge regression\",\"Machine Learning/Reinforcement Learning /Value Based Methods /SARSA (State-Action-Reward-State-Action)\",\"Machine Learning/Semi-Supervised /Self-Training Classifier /Self-Training Classifier \",\"Machine Learning/Unsupervised /Dimensionality Reduction /Singular Value Decomposition\",\"Machine Learning/Reinforcement Learning /Policy-Based Methods /Soft Actor-Critic\",\"Machine Learning/Deep Learning /Auto Encoders/Sparse Auto Encoder \",\"Machine Learning/Unsupervised /Clustering /Spectral clustering\",\"Machine Learning/Supervised/Classification/Support Vector Machines\",\"Machine Learning/Supervised/Regression /Support Vector Regression \",\"Machine Learning/Deep Learning /Convolutional Network /Transposed Convolutional Network \",\"Machine Learning/Reinforcement Learning /Policy-Based Methods /Trust Region Policy Optimization\",\"Machine Learning/Deep Learning /Auto Encoders/Undercomplete Auto Encoder \",\"Machine Learning/Deep Learning /Auto Encoders/Variational Auto Encoder \",\"Machine Learning/Deep Learning /Generative Adversarial Networks /Wasserstein Gan\",\"Machine Learning/Supervised/Classification/k-Nearest Neighbors\",\"Machine Learning/Unsupervised /Dimensionality Reduction /t-Distributed Stochastic Neighbor Embedding\",\"Machine Learning/Deep Learning /Auto Encoders\",\"Machine Learning/Supervised/Classification\",\"Machine Learning/Unsupervised /Clustering \",\"Machine Learning/Deep Learning /Convolutional Network \",\"Machine Learning/Unsupervised /Dimensionality Reduction \",\"Machine Learning/Deep Learning /Feed Forward Neural Networks \",\"Machine Learning/Deep Learning /Generative Adversarial Networks \",\"Machine Learning/Semi-Supervised /Label Propagation \",\"Machine Learning/Semi-Supervised /Label Spreading\",\"Machine Learning/Reinforcement Learning /Policy-Based Methods \",\"Machine Learning/Deep Learning /Recurrent Neural Networks\",\"Machine Learning/Supervised/Regression \",\"Machine Learning/Semi-Supervised /Self-Training Classifier \",\"Machine Learning/Reinforcement Learning /Value Based Methods \",\"Machine Learning/Deep Learning \",\"Machine Learning/Reinforcement Learning \",\"Machine Learning/Semi-Supervised \",\"Machine Learning/Supervised\",\"Machine Learning/Unsupervised \",\"Machine Learning\"],\"labels\":[\"Actor-Critic Methods\",\"AdaBoost\",\"Affinity propagation\",\"Agglomerative clustering\",\"Artificial Neural Networks\",\"Asynchronous Advantage Actor-Critic\",\"Autoencoders\",\"BIRCH (Balanced Iterative Reducing and Clustering using Hierarchies)\",\"Conditional GAN\",\"Decision Trees\",\"Decision tree regression\",\"Deep Conolutional GAN\",\"Deep Convolutional Network\",\"Deep Deterministic Policy Gradient\",\"Deep Feed Forward\",\"Deep Q-Networks\",\"Denoising Auto Encoder\",\"Density-Based Spatial Clustering of Applications with Noise\",\"Elastic Net regression\",\"Factor Analysis of Mixed Data\",\"Feed Forward\",\"Gated Recurrent Unit\",\"Gaussian mixture models\",\"Generative Adversarial Network\",\"Gradient Boosting Machines\",\"Gradient boosting regression\",\"Hierarchical clustering\",\"Independent Component Analysis\",\"Isomap\",\"K-Nearest Neighbors Regression\",\"K-means clustering\",\"Label Propagation \",\"Label Spreading\",\"Lasso regression\",\"Linear Discriminant Analysis\",\"Linear Discriminant Analysis \",\"Linear regression\",\"Logistic Regression\",\"Long Short Term Memory\",\"Mean-shift clustering\",\"Multi-Agent Deep Deterministic Policy Gradient\",\"Multidimensional Scaling\",\"Multiple regression\",\"Naive Bayes\",\"Non-negative Matrix Factorization \",\"OPTICS (Ordering Points To Identify the Clustering Structure)\",\"Policy Gradient Methods\",\"Polynomial regression\",\"Principal Component Analysis \",\"Proximal Policy Optimization \",\"Q-learning\",\"Random Forest\",\"Random Projection\",\"Random forest regression\",\"Recurrent Neural Network\",\"Ridge regression\",\"SARSA (State-Action-Reward-State-Action)\",\"Self-Training Classifier \",\"Singular Value Decomposition\",\"Soft Actor-Critic\",\"Sparse Auto Encoder \",\"Spectral clustering\",\"Support Vector Machines\",\"Support Vector Regression \",\"Transposed Convolutional Network \",\"Trust Region Policy Optimization\",\"Undercomplete Auto Encoder \",\"Variational Auto Encoder \",\"Wasserstein Gan\",\"k-Nearest Neighbors\",\"t-Distributed Stochastic Neighbor Embedding\",\"Auto Encoders\",\"Classification\",\"Clustering \",\"Convolutional Network \",\"Dimensionality Reduction \",\"Feed Forward Neural Networks \",\"Generative Adversarial Networks \",\"Label Propagation \",\"Label Spreading\",\"Policy-Based Methods \",\"Recurrent Neural Networks\",\"Regression \",\"Self-Training Classifier \",\"Value Based Methods \",\"Deep Learning \",\"Reinforcement Learning \",\"Semi-Supervised \",\"Supervised\",\"Unsupervised \",\"Machine Learning\"],\"maxdepth\":3,\"name\":\"\",\"parents\":[\"Machine Learning/Reinforcement Learning /Policy-Based Methods \",\"Machine Learning/Supervised/Classification\",\"Machine Learning/Unsupervised /Clustering \",\"Machine Learning/Unsupervised /Clustering \",\"Machine Learning/Supervised/Classification\",\"Machine Learning/Reinforcement Learning /Policy-Based Methods \",\"Machine Learning/Unsupervised /Dimensionality Reduction \",\"Machine Learning/Unsupervised /Clustering \",\"Machine Learning/Deep Learning /Generative Adversarial Networks \",\"Machine Learning/Supervised/Classification\",\"Machine Learning/Supervised/Regression \",\"Machine Learning/Deep Learning /Generative Adversarial Networks \",\"Machine Learning/Deep Learning /Convolutional Network \",\"Machine Learning/Reinforcement Learning /Policy-Based Methods \",\"Machine Learning/Deep Learning /Feed Forward Neural Networks \",\"Machine Learning/Reinforcement Learning /Value Based Methods \",\"Machine Learning/Deep Learning /Auto Encoders\",\"Machine Learning/Unsupervised /Clustering \",\"Machine Learning/Supervised/Regression \",\"Machine Learning/Unsupervised /Dimensionality Reduction \",\"Machine Learning/Deep Learning /Feed Forward Neural Networks \",\"Machine Learning/Deep Learning /Recurrent Neural Networks\",\"Machine Learning/Unsupervised /Clustering \",\"Machine Learning/Deep Learning /Generative Adversarial Networks \",\"Machine Learning/Supervised/Classification\",\"Machine Learning/Supervised/Regression \",\"Machine Learning/Unsupervised /Clustering \",\"Machine Learning/Unsupervised /Dimensionality Reduction \",\"Machine Learning/Unsupervised /Dimensionality Reduction \",\"Machine Learning/Supervised/Regression \",\"Machine Learning/Unsupervised /Clustering \",\"Machine Learning/Semi-Supervised /Label Propagation \",\"Machine Learning/Semi-Supervised /Label Spreading\",\"Machine Learning/Supervised/Regression \",\"Machine Learning/Unsupervised /Dimensionality Reduction \",\"Machine Learning/Supervised/Classification\",\"Machine Learning/Supervised/Regression \",\"Machine Learning/Supervised/Classification\",\"Machine Learning/Deep Learning /Recurrent Neural Networks\",\"Machine Learning/Unsupervised /Clustering \",\"Machine Learning/Reinforcement Learning /Policy-Based Methods \",\"Machine Learning/Unsupervised /Dimensionality Reduction \",\"Machine Learning/Supervised/Regression \",\"Machine Learning/Supervised/Classification\",\"Machine Learning/Unsupervised /Dimensionality Reduction \",\"Machine Learning/Unsupervised /Clustering \",\"Machine Learning/Reinforcement Learning /Policy-Based Methods \",\"Machine Learning/Supervised/Regression \",\"Machine Learning/Unsupervised /Dimensionality Reduction \",\"Machine Learning/Reinforcement Learning /Policy-Based Methods \",\"Machine Learning/Reinforcement Learning /Value Based Methods \",\"Machine Learning/Supervised/Classification\",\"Machine Learning/Unsupervised /Dimensionality Reduction \",\"Machine Learning/Supervised/Regression \",\"Machine Learning/Deep Learning /Recurrent Neural Networks\",\"Machine Learning/Supervised/Regression \",\"Machine Learning/Reinforcement Learning /Value Based Methods \",\"Machine Learning/Semi-Supervised /Self-Training Classifier \",\"Machine Learning/Unsupervised /Dimensionality Reduction \",\"Machine Learning/Reinforcement Learning /Policy-Based Methods \",\"Machine Learning/Deep Learning /Auto Encoders\",\"Machine Learning/Unsupervised /Clustering \",\"Machine Learning/Supervised/Classification\",\"Machine Learning/Supervised/Regression \",\"Machine Learning/Deep Learning /Convolutional Network \",\"Machine Learning/Reinforcement Learning /Policy-Based Methods \",\"Machine Learning/Deep Learning /Auto Encoders\",\"Machine Learning/Deep Learning /Auto Encoders\",\"Machine Learning/Deep Learning /Generative Adversarial Networks \",\"Machine Learning/Supervised/Classification\",\"Machine Learning/Unsupervised /Dimensionality Reduction \",\"Machine Learning/Deep Learning \",\"Machine Learning/Supervised\",\"Machine Learning/Unsupervised \",\"Machine Learning/Deep Learning \",\"Machine Learning/Unsupervised \",\"Machine Learning/Deep Learning \",\"Machine Learning/Deep Learning \",\"Machine Learning/Semi-Supervised \",\"Machine Learning/Semi-Supervised \",\"Machine Learning/Reinforcement Learning \",\"Machine Learning/Deep Learning \",\"Machine Learning/Supervised\",\"Machine Learning/Semi-Supervised \",\"Machine Learning/Reinforcement Learning \",\"Machine Learning\",\"Machine Learning\",\"Machine Learning\",\"Machine Learning\",\"Machine Learning\",\"\"],\"values\":[1,1,1,1,1,1,1,1,1,1,1,1,1,1,1,1,1,1,1,1,1,1,1,1,1,1,1,1,1,1,1,1,1,1,1,1,1,1,1,1,1,1,1,1,1,1,1,1,1,1,1,1,1,1,1,1,1,1,1,1,1,1,1,1,1,1,1,1,1,1,1,4,10,10,2,11,2,4,1,1,8,3,11,1,3,15,11,3,21,21,71],\"type\":\"sunburst\"}],                        {\"template\":{\"data\":{\"histogram2dcontour\":[{\"type\":\"histogram2dcontour\",\"colorbar\":{\"outlinewidth\":0,\"ticks\":\"\"},\"colorscale\":[[0.0,\"#0d0887\"],[0.1111111111111111,\"#46039f\"],[0.2222222222222222,\"#7201a8\"],[0.3333333333333333,\"#9c179e\"],[0.4444444444444444,\"#bd3786\"],[0.5555555555555556,\"#d8576b\"],[0.6666666666666666,\"#ed7953\"],[0.7777777777777778,\"#fb9f3a\"],[0.8888888888888888,\"#fdca26\"],[1.0,\"#f0f921\"]]}],\"choropleth\":[{\"type\":\"choropleth\",\"colorbar\":{\"outlinewidth\":0,\"ticks\":\"\"}}],\"histogram2d\":[{\"type\":\"histogram2d\",\"colorbar\":{\"outlinewidth\":0,\"ticks\":\"\"},\"colorscale\":[[0.0,\"#0d0887\"],[0.1111111111111111,\"#46039f\"],[0.2222222222222222,\"#7201a8\"],[0.3333333333333333,\"#9c179e\"],[0.4444444444444444,\"#bd3786\"],[0.5555555555555556,\"#d8576b\"],[0.6666666666666666,\"#ed7953\"],[0.7777777777777778,\"#fb9f3a\"],[0.8888888888888888,\"#fdca26\"],[1.0,\"#f0f921\"]]}],\"heatmap\":[{\"type\":\"heatmap\",\"colorbar\":{\"outlinewidth\":0,\"ticks\":\"\"},\"colorscale\":[[0.0,\"#0d0887\"],[0.1111111111111111,\"#46039f\"],[0.2222222222222222,\"#7201a8\"],[0.3333333333333333,\"#9c179e\"],[0.4444444444444444,\"#bd3786\"],[0.5555555555555556,\"#d8576b\"],[0.6666666666666666,\"#ed7953\"],[0.7777777777777778,\"#fb9f3a\"],[0.8888888888888888,\"#fdca26\"],[1.0,\"#f0f921\"]]}],\"heatmapgl\":[{\"type\":\"heatmapgl\",\"colorbar\":{\"outlinewidth\":0,\"ticks\":\"\"},\"colorscale\":[[0.0,\"#0d0887\"],[0.1111111111111111,\"#46039f\"],[0.2222222222222222,\"#7201a8\"],[0.3333333333333333,\"#9c179e\"],[0.4444444444444444,\"#bd3786\"],[0.5555555555555556,\"#d8576b\"],[0.6666666666666666,\"#ed7953\"],[0.7777777777777778,\"#fb9f3a\"],[0.8888888888888888,\"#fdca26\"],[1.0,\"#f0f921\"]]}],\"contourcarpet\":[{\"type\":\"contourcarpet\",\"colorbar\":{\"outlinewidth\":0,\"ticks\":\"\"}}],\"contour\":[{\"type\":\"contour\",\"colorbar\":{\"outlinewidth\":0,\"ticks\":\"\"},\"colorscale\":[[0.0,\"#0d0887\"],[0.1111111111111111,\"#46039f\"],[0.2222222222222222,\"#7201a8\"],[0.3333333333333333,\"#9c179e\"],[0.4444444444444444,\"#bd3786\"],[0.5555555555555556,\"#d8576b\"],[0.6666666666666666,\"#ed7953\"],[0.7777777777777778,\"#fb9f3a\"],[0.8888888888888888,\"#fdca26\"],[1.0,\"#f0f921\"]]}],\"surface\":[{\"type\":\"surface\",\"colorbar\":{\"outlinewidth\":0,\"ticks\":\"\"},\"colorscale\":[[0.0,\"#0d0887\"],[0.1111111111111111,\"#46039f\"],[0.2222222222222222,\"#7201a8\"],[0.3333333333333333,\"#9c179e\"],[0.4444444444444444,\"#bd3786\"],[0.5555555555555556,\"#d8576b\"],[0.6666666666666666,\"#ed7953\"],[0.7777777777777778,\"#fb9f3a\"],[0.8888888888888888,\"#fdca26\"],[1.0,\"#f0f921\"]]}],\"mesh3d\":[{\"type\":\"mesh3d\",\"colorbar\":{\"outlinewidth\":0,\"ticks\":\"\"}}],\"scatter\":[{\"fillpattern\":{\"fillmode\":\"overlay\",\"size\":10,\"solidity\":0.2},\"type\":\"scatter\"}],\"parcoords\":[{\"type\":\"parcoords\",\"line\":{\"colorbar\":{\"outlinewidth\":0,\"ticks\":\"\"}}}],\"scatterpolargl\":[{\"type\":\"scatterpolargl\",\"marker\":{\"colorbar\":{\"outlinewidth\":0,\"ticks\":\"\"}}}],\"bar\":[{\"error_x\":{\"color\":\"#2a3f5f\"},\"error_y\":{\"color\":\"#2a3f5f\"},\"marker\":{\"line\":{\"color\":\"#E5ECF6\",\"width\":0.5},\"pattern\":{\"fillmode\":\"overlay\",\"size\":10,\"solidity\":0.2}},\"type\":\"bar\"}],\"scattergeo\":[{\"type\":\"scattergeo\",\"marker\":{\"colorbar\":{\"outlinewidth\":0,\"ticks\":\"\"}}}],\"scatterpolar\":[{\"type\":\"scatterpolar\",\"marker\":{\"colorbar\":{\"outlinewidth\":0,\"ticks\":\"\"}}}],\"histogram\":[{\"marker\":{\"pattern\":{\"fillmode\":\"overlay\",\"size\":10,\"solidity\":0.2}},\"type\":\"histogram\"}],\"scattergl\":[{\"type\":\"scattergl\",\"marker\":{\"colorbar\":{\"outlinewidth\":0,\"ticks\":\"\"}}}],\"scatter3d\":[{\"type\":\"scatter3d\",\"line\":{\"colorbar\":{\"outlinewidth\":0,\"ticks\":\"\"}},\"marker\":{\"colorbar\":{\"outlinewidth\":0,\"ticks\":\"\"}}}],\"scattermapbox\":[{\"type\":\"scattermapbox\",\"marker\":{\"colorbar\":{\"outlinewidth\":0,\"ticks\":\"\"}}}],\"scatterternary\":[{\"type\":\"scatterternary\",\"marker\":{\"colorbar\":{\"outlinewidth\":0,\"ticks\":\"\"}}}],\"scattercarpet\":[{\"type\":\"scattercarpet\",\"marker\":{\"colorbar\":{\"outlinewidth\":0,\"ticks\":\"\"}}}],\"carpet\":[{\"aaxis\":{\"endlinecolor\":\"#2a3f5f\",\"gridcolor\":\"white\",\"linecolor\":\"white\",\"minorgridcolor\":\"white\",\"startlinecolor\":\"#2a3f5f\"},\"baxis\":{\"endlinecolor\":\"#2a3f5f\",\"gridcolor\":\"white\",\"linecolor\":\"white\",\"minorgridcolor\":\"white\",\"startlinecolor\":\"#2a3f5f\"},\"type\":\"carpet\"}],\"table\":[{\"cells\":{\"fill\":{\"color\":\"#EBF0F8\"},\"line\":{\"color\":\"white\"}},\"header\":{\"fill\":{\"color\":\"#C8D4E3\"},\"line\":{\"color\":\"white\"}},\"type\":\"table\"}],\"barpolar\":[{\"marker\":{\"line\":{\"color\":\"#E5ECF6\",\"width\":0.5},\"pattern\":{\"fillmode\":\"overlay\",\"size\":10,\"solidity\":0.2}},\"type\":\"barpolar\"}],\"pie\":[{\"automargin\":true,\"type\":\"pie\"}]},\"layout\":{\"autotypenumbers\":\"strict\",\"colorway\":[\"#636efa\",\"#EF553B\",\"#00cc96\",\"#ab63fa\",\"#FFA15A\",\"#19d3f3\",\"#FF6692\",\"#B6E880\",\"#FF97FF\",\"#FECB52\"],\"font\":{\"color\":\"#2a3f5f\"},\"hovermode\":\"closest\",\"hoverlabel\":{\"align\":\"left\"},\"paper_bgcolor\":\"white\",\"plot_bgcolor\":\"#E5ECF6\",\"polar\":{\"bgcolor\":\"#E5ECF6\",\"angularaxis\":{\"gridcolor\":\"white\",\"linecolor\":\"white\",\"ticks\":\"\"},\"radialaxis\":{\"gridcolor\":\"white\",\"linecolor\":\"white\",\"ticks\":\"\"}},\"ternary\":{\"bgcolor\":\"#E5ECF6\",\"aaxis\":{\"gridcolor\":\"white\",\"linecolor\":\"white\",\"ticks\":\"\"},\"baxis\":{\"gridcolor\":\"white\",\"linecolor\":\"white\",\"ticks\":\"\"},\"caxis\":{\"gridcolor\":\"white\",\"linecolor\":\"white\",\"ticks\":\"\"}},\"coloraxis\":{\"colorbar\":{\"outlinewidth\":0,\"ticks\":\"\"}},\"colorscale\":{\"sequential\":[[0.0,\"#0d0887\"],[0.1111111111111111,\"#46039f\"],[0.2222222222222222,\"#7201a8\"],[0.3333333333333333,\"#9c179e\"],[0.4444444444444444,\"#bd3786\"],[0.5555555555555556,\"#d8576b\"],[0.6666666666666666,\"#ed7953\"],[0.7777777777777778,\"#fb9f3a\"],[0.8888888888888888,\"#fdca26\"],[1.0,\"#f0f921\"]],\"sequentialminus\":[[0.0,\"#0d0887\"],[0.1111111111111111,\"#46039f\"],[0.2222222222222222,\"#7201a8\"],[0.3333333333333333,\"#9c179e\"],[0.4444444444444444,\"#bd3786\"],[0.5555555555555556,\"#d8576b\"],[0.6666666666666666,\"#ed7953\"],[0.7777777777777778,\"#fb9f3a\"],[0.8888888888888888,\"#fdca26\"],[1.0,\"#f0f921\"]],\"diverging\":[[0,\"#8e0152\"],[0.1,\"#c51b7d\"],[0.2,\"#de77ae\"],[0.3,\"#f1b6da\"],[0.4,\"#fde0ef\"],[0.5,\"#f7f7f7\"],[0.6,\"#e6f5d0\"],[0.7,\"#b8e186\"],[0.8,\"#7fbc41\"],[0.9,\"#4d9221\"],[1,\"#276419\"]]},\"xaxis\":{\"gridcolor\":\"white\",\"linecolor\":\"white\",\"ticks\":\"\",\"title\":{\"standoff\":15},\"zerolinecolor\":\"white\",\"automargin\":true,\"zerolinewidth\":2},\"yaxis\":{\"gridcolor\":\"white\",\"linecolor\":\"white\",\"ticks\":\"\",\"title\":{\"standoff\":15},\"zerolinecolor\":\"white\",\"automargin\":true,\"zerolinewidth\":2},\"scene\":{\"xaxis\":{\"backgroundcolor\":\"#E5ECF6\",\"gridcolor\":\"white\",\"linecolor\":\"white\",\"showbackground\":true,\"ticks\":\"\",\"zerolinecolor\":\"white\",\"gridwidth\":2},\"yaxis\":{\"backgroundcolor\":\"#E5ECF6\",\"gridcolor\":\"white\",\"linecolor\":\"white\",\"showbackground\":true,\"ticks\":\"\",\"zerolinecolor\":\"white\",\"gridwidth\":2},\"zaxis\":{\"backgroundcolor\":\"#E5ECF6\",\"gridcolor\":\"white\",\"linecolor\":\"white\",\"showbackground\":true,\"ticks\":\"\",\"zerolinecolor\":\"white\",\"gridwidth\":2}},\"shapedefaults\":{\"line\":{\"color\":\"#2a3f5f\"}},\"annotationdefaults\":{\"arrowcolor\":\"#2a3f5f\",\"arrowhead\":0,\"arrowwidth\":1},\"geo\":{\"bgcolor\":\"white\",\"landcolor\":\"#E5ECF6\",\"subunitcolor\":\"white\",\"showland\":true,\"showlakes\":true,\"lakecolor\":\"white\"},\"title\":{\"x\":0.05},\"mapbox\":{\"style\":\"light\"}}},\"legend\":{\"tracegroupgap\":0},\"margin\":{\"t\":60},\"uniformtext\":{\"minsize\":24}},                        {\"responsive\": true}                    ).then(function(){\n",
              "                            \n",
              "var gd = document.getElementById('eacb0257-cb3b-45e7-8a2b-6f097bc2a784');\n",
              "var x = new MutationObserver(function (mutations, observer) {{\n",
              "        var display = window.getComputedStyle(gd).display;\n",
              "        if (!display || display === 'none') {{\n",
              "            console.log([gd, 'removed!']);\n",
              "            Plotly.purge(gd);\n",
              "            observer.disconnect();\n",
              "        }}\n",
              "}});\n",
              "\n",
              "// Listen for the removal of the full notebook cells\n",
              "var notebookContainer = gd.closest('#notebook-container');\n",
              "if (notebookContainer) {{\n",
              "    x.observe(notebookContainer, {childList: true});\n",
              "}}\n",
              "\n",
              "// Listen for the clearing of the current output cell\n",
              "var outputEl = gd.closest('.output');\n",
              "if (outputEl) {{\n",
              "    x.observe(outputEl, {childList: true});\n",
              "}}\n",
              "\n",
              "                        })                };                            </script>        </div>\n",
              "</body>\n",
              "</html>"
            ]
          },
          "metadata": {}
        }
      ]
    },
    {
      "cell_type": "code",
      "source": [
        "fig.write_html('sunburst_plot.html')\n",
        "from google.colab import files\n",
        "files.download('sunburst_plot.html')\n"
      ],
      "metadata": {
        "colab": {
          "base_uri": "https://localhost:8080/",
          "height": 17
        },
        "id": "1A-5p0CpdTES",
        "outputId": "76dcfcfb-c659-401e-df39-83cc74d3334f"
      },
      "execution_count": null,
      "outputs": [
        {
          "output_type": "display_data",
          "data": {
            "text/plain": [
              "<IPython.core.display.Javascript object>"
            ],
            "application/javascript": [
              "\n",
              "    async function download(id, filename, size) {\n",
              "      if (!google.colab.kernel.accessAllowed) {\n",
              "        return;\n",
              "      }\n",
              "      const div = document.createElement('div');\n",
              "      const label = document.createElement('label');\n",
              "      label.textContent = `Downloading \"${filename}\": `;\n",
              "      div.appendChild(label);\n",
              "      const progress = document.createElement('progress');\n",
              "      progress.max = size;\n",
              "      div.appendChild(progress);\n",
              "      document.body.appendChild(div);\n",
              "\n",
              "      const buffers = [];\n",
              "      let downloaded = 0;\n",
              "\n",
              "      const channel = await google.colab.kernel.comms.open(id);\n",
              "      // Send a message to notify the kernel that we're ready.\n",
              "      channel.send({})\n",
              "\n",
              "      for await (const message of channel.messages) {\n",
              "        // Send a message to notify the kernel that we're ready.\n",
              "        channel.send({})\n",
              "        if (message.buffers) {\n",
              "          for (const buffer of message.buffers) {\n",
              "            buffers.push(buffer);\n",
              "            downloaded += buffer.byteLength;\n",
              "            progress.value = downloaded;\n",
              "          }\n",
              "        }\n",
              "      }\n",
              "      const blob = new Blob(buffers, {type: 'application/binary'});\n",
              "      const a = document.createElement('a');\n",
              "      a.href = window.URL.createObjectURL(blob);\n",
              "      a.download = filename;\n",
              "      div.appendChild(a);\n",
              "      a.click();\n",
              "      div.remove();\n",
              "    }\n",
              "  "
            ]
          },
          "metadata": {}
        },
        {
          "output_type": "display_data",
          "data": {
            "text/plain": [
              "<IPython.core.display.Javascript object>"
            ],
            "application/javascript": [
              "download(\"download_dc242aec-32fd-4bde-a009-100ce220615e\", \"sunburst_plot.html\", 3596919)"
            ]
          },
          "metadata": {}
        }
      ]
    },
    {
      "cell_type": "code",
      "source": [
        "\n",
        "!pip install chart_studio"
      ],
      "metadata": {
        "colab": {
          "base_uri": "https://localhost:8080/"
        },
        "id": "qyYuzquEX4AN",
        "outputId": "76668ad0-aa7c-4be4-db59-e246d3d82761"
      },
      "execution_count": null,
      "outputs": [
        {
          "output_type": "stream",
          "name": "stdout",
          "text": [
            "Looking in indexes: https://pypi.org/simple, https://us-python.pkg.dev/colab-wheels/public/simple/\n",
            "Requirement already satisfied: chart_studio in /usr/local/lib/python3.10/dist-packages (1.1.0)\n",
            "Requirement already satisfied: plotly in /usr/local/lib/python3.10/dist-packages (from chart_studio) (5.13.1)\n",
            "Requirement already satisfied: requests in /usr/local/lib/python3.10/dist-packages (from chart_studio) (2.27.1)\n",
            "Requirement already satisfied: retrying>=1.3.3 in /usr/local/lib/python3.10/dist-packages (from chart_studio) (1.3.4)\n",
            "Requirement already satisfied: six in /usr/local/lib/python3.10/dist-packages (from chart_studio) (1.16.0)\n",
            "Requirement already satisfied: tenacity>=6.2.0 in /usr/local/lib/python3.10/dist-packages (from plotly->chart_studio) (8.2.2)\n",
            "Requirement already satisfied: urllib3<1.27,>=1.21.1 in /usr/local/lib/python3.10/dist-packages (from requests->chart_studio) (1.26.15)\n",
            "Requirement already satisfied: certifi>=2017.4.17 in /usr/local/lib/python3.10/dist-packages (from requests->chart_studio) (2022.12.7)\n",
            "Requirement already satisfied: charset-normalizer~=2.0.0 in /usr/local/lib/python3.10/dist-packages (from requests->chart_studio) (2.0.12)\n",
            "Requirement already satisfied: idna<4,>=2.5 in /usr/local/lib/python3.10/dist-packages (from requests->chart_studio) (3.4)\n"
          ]
        }
      ]
    },
    {
      "cell_type": "code",
      "source": [],
      "metadata": {
        "id": "l8EXzRALatrX"
      },
      "execution_count": null,
      "outputs": []
    },
    {
      "cell_type": "code",
      "source": [
        "import plotly.graph_objects as go\n",
        "import chart_studio.plotly as py\n",
        "import chart_studio\n",
        "\n",
        "username = 'Emilymc'\n",
        "api_key = 'tPZJj9AQ94dwzk85Q9zy'\n",
        "\n",
        "# Set Chart Studio credentials\n",
        "chart_studio.tools.set_credentials_file(username=username, api_key=api_key)\n",
        "\n",
        "\n",
        "# create the sunburst plot\n",
        "fig = px.sunburst(dff, path=['Machine Learning','Parent','Labels', 'Types'],maxdepth=3)\n",
        "fig.update_layout(uniformtext_minsize=24)\n",
        "fig.show()\n",
        "\n",
        "\n",
        "fig.update_layout(uniformtext_minsize=24)\n",
        "fig.show()\n",
        "\n",
        "# Save the sunburst plot as HTML file\n",
        "fig.write_html(\"my_sunburst.html\")\n",
        "\n",
        "# Upload the HTML file to Chart Studio\n",
        "py.plot(fig, filename='my_sunburst', auto_open=True)\n",
        "\n"
      ],
      "metadata": {
        "colab": {
          "base_uri": "https://localhost:8080/",
          "height": 1000
        },
        "id": "UdwBcD_vXgrF",
        "outputId": "d5b68ec5-8f8c-4e46-ef50-61a1180bf176"
      },
      "execution_count": null,
      "outputs": [
        {
          "output_type": "display_data",
          "data": {
            "text/html": [
              "<html>\n",
              "<head><meta charset=\"utf-8\" /></head>\n",
              "<body>\n",
              "    <div>            <script src=\"https://cdnjs.cloudflare.com/ajax/libs/mathjax/2.7.5/MathJax.js?config=TeX-AMS-MML_SVG\"></script><script type=\"text/javascript\">if (window.MathJax && window.MathJax.Hub && window.MathJax.Hub.Config) {window.MathJax.Hub.Config({SVG: {font: \"STIX-Web\"}});}</script>                <script type=\"text/javascript\">window.PlotlyConfig = {MathJaxConfig: 'local'};</script>\n",
              "        <script src=\"https://cdn.plot.ly/plotly-2.18.2.min.js\"></script>                <div id=\"d1f959b1-dff4-4bfd-8283-bcc31b8cd7ce\" class=\"plotly-graph-div\" style=\"height:525px; width:100%;\"></div>            <script type=\"text/javascript\">                                    window.PLOTLYENV=window.PLOTLYENV || {};                                    if (document.getElementById(\"d1f959b1-dff4-4bfd-8283-bcc31b8cd7ce\")) {                    Plotly.newPlot(                        \"d1f959b1-dff4-4bfd-8283-bcc31b8cd7ce\",                        [{\"branchvalues\":\"total\",\"domain\":{\"x\":[0.0,1.0],\"y\":[0.0,1.0]},\"hovertemplate\":\"labels=%{label}<br>count=%{value}<br>parent=%{parent}<br>id=%{id}<extra></extra>\",\"ids\":[\"Machine Learning/Reinforcement Learning /Policy-Based Methods /Actor-Critic Methods\",\"Machine Learning/Supervised/Classification/AdaBoost\",\"Machine Learning/Unsupervised /Clustering /Affinity propagation\",\"Machine Learning/Unsupervised /Clustering /Agglomerative clustering\",\"Machine Learning/Supervised/Classification/Artificial Neural Networks\",\"Machine Learning/Reinforcement Learning /Policy-Based Methods /Asynchronous Advantage Actor-Critic\",\"Machine Learning/Unsupervised /Dimensionality Reduction /Autoencoders\",\"Machine Learning/Unsupervised /Clustering /BIRCH (Balanced Iterative Reducing and Clustering using Hierarchies)\",\"Machine Learning/Deep Learning /Generative Adversarial Networks /Conditional GAN\",\"Machine Learning/Supervised/Classification/Decision Trees\",\"Machine Learning/Supervised/Regression /Decision tree regression\",\"Machine Learning/Deep Learning /Generative Adversarial Networks /Deep Conolutional GAN\",\"Machine Learning/Deep Learning /Convolutional Network /Deep Convolutional Network\",\"Machine Learning/Reinforcement Learning /Policy-Based Methods /Deep Deterministic Policy Gradient\",\"Machine Learning/Deep Learning /Feed Forward Neural Networks /Deep Feed Forward\",\"Machine Learning/Reinforcement Learning /Value Based Methods /Deep Q-Networks\",\"Machine Learning/Deep Learning /Auto Encoders/Denoising Auto Encoder\",\"Machine Learning/Unsupervised /Clustering /Density-Based Spatial Clustering of Applications with Noise\",\"Machine Learning/Supervised/Regression /Elastic Net regression\",\"Machine Learning/Unsupervised /Dimensionality Reduction /Factor Analysis of Mixed Data\",\"Machine Learning/Deep Learning /Feed Forward Neural Networks /Feed Forward\",\"Machine Learning/Deep Learning /Recurrent Neural Networks/Gated Recurrent Unit\",\"Machine Learning/Unsupervised /Clustering /Gaussian mixture models\",\"Machine Learning/Deep Learning /Generative Adversarial Networks /Generative Adversarial Network\",\"Machine Learning/Supervised/Classification/Gradient Boosting Machines\",\"Machine Learning/Supervised/Regression /Gradient boosting regression\",\"Machine Learning/Unsupervised /Clustering /Hierarchical clustering\",\"Machine Learning/Unsupervised /Dimensionality Reduction /Independent Component Analysis\",\"Machine Learning/Unsupervised /Dimensionality Reduction /Isomap\",\"Machine Learning/Supervised/Regression /K-Nearest Neighbors Regression\",\"Machine Learning/Unsupervised /Clustering /K-means clustering\",\"Machine Learning/Semi-Supervised /Label Propagation /Label Propagation \",\"Machine Learning/Semi-Supervised /Label Spreading/Label Spreading\",\"Machine Learning/Supervised/Regression /Lasso regression\",\"Machine Learning/Unsupervised /Dimensionality Reduction /Linear Discriminant Analysis\",\"Machine Learning/Supervised/Classification/Linear Discriminant Analysis \",\"Machine Learning/Supervised/Regression /Linear regression\",\"Machine Learning/Supervised/Classification/Logistic Regression\",\"Machine Learning/Deep Learning /Recurrent Neural Networks/Long Short Term Memory\",\"Machine Learning/Unsupervised /Clustering /Mean-shift clustering\",\"Machine Learning/Reinforcement Learning /Policy-Based Methods /Multi-Agent Deep Deterministic Policy Gradient\",\"Machine Learning/Unsupervised /Dimensionality Reduction /Multidimensional Scaling\",\"Machine Learning/Supervised/Regression /Multiple regression\",\"Machine Learning/Supervised/Classification/Naive Bayes\",\"Machine Learning/Unsupervised /Dimensionality Reduction /Non-negative Matrix Factorization \",\"Machine Learning/Unsupervised /Clustering /OPTICS (Ordering Points To Identify the Clustering Structure)\",\"Machine Learning/Reinforcement Learning /Policy-Based Methods /Policy Gradient Methods\",\"Machine Learning/Supervised/Regression /Polynomial regression\",\"Machine Learning/Unsupervised /Dimensionality Reduction /Principal Component Analysis \",\"Machine Learning/Reinforcement Learning /Policy-Based Methods /Proximal Policy Optimization \",\"Machine Learning/Reinforcement Learning /Value Based Methods /Q-learning\",\"Machine Learning/Supervised/Classification/Random Forest\",\"Machine Learning/Unsupervised /Dimensionality Reduction /Random Projection\",\"Machine Learning/Supervised/Regression /Random forest regression\",\"Machine Learning/Deep Learning /Recurrent Neural Networks/Recurrent Neural Network\",\"Machine Learning/Supervised/Regression /Ridge regression\",\"Machine Learning/Reinforcement Learning /Value Based Methods /SARSA (State-Action-Reward-State-Action)\",\"Machine Learning/Semi-Supervised /Self-Training Classifier /Self-Training Classifier \",\"Machine Learning/Unsupervised /Dimensionality Reduction /Singular Value Decomposition\",\"Machine Learning/Reinforcement Learning /Policy-Based Methods /Soft Actor-Critic\",\"Machine Learning/Deep Learning /Auto Encoders/Sparse Auto Encoder \",\"Machine Learning/Unsupervised /Clustering /Spectral clustering\",\"Machine Learning/Supervised/Classification/Support Vector Machines\",\"Machine Learning/Supervised/Regression /Support Vector Regression \",\"Machine Learning/Deep Learning /Convolutional Network /Transposed Convolutional Network \",\"Machine Learning/Reinforcement Learning /Policy-Based Methods /Trust Region Policy Optimization\",\"Machine Learning/Deep Learning /Auto Encoders/Undercomplete Auto Encoder \",\"Machine Learning/Deep Learning /Auto Encoders/Variational Auto Encoder \",\"Machine Learning/Deep Learning /Generative Adversarial Networks /Wasserstein Gan\",\"Machine Learning/Supervised/Classification/k-Nearest Neighbors\",\"Machine Learning/Unsupervised /Dimensionality Reduction /t-Distributed Stochastic Neighbor Embedding\",\"Machine Learning/Deep Learning /Auto Encoders\",\"Machine Learning/Supervised/Classification\",\"Machine Learning/Unsupervised /Clustering \",\"Machine Learning/Deep Learning /Convolutional Network \",\"Machine Learning/Unsupervised /Dimensionality Reduction \",\"Machine Learning/Deep Learning /Feed Forward Neural Networks \",\"Machine Learning/Deep Learning /Generative Adversarial Networks \",\"Machine Learning/Semi-Supervised /Label Propagation \",\"Machine Learning/Semi-Supervised /Label Spreading\",\"Machine Learning/Reinforcement Learning /Policy-Based Methods \",\"Machine Learning/Deep Learning /Recurrent Neural Networks\",\"Machine Learning/Supervised/Regression \",\"Machine Learning/Semi-Supervised /Self-Training Classifier \",\"Machine Learning/Reinforcement Learning /Value Based Methods \",\"Machine Learning/Deep Learning \",\"Machine Learning/Reinforcement Learning \",\"Machine Learning/Semi-Supervised \",\"Machine Learning/Supervised\",\"Machine Learning/Unsupervised \",\"Machine Learning\"],\"labels\":[\"Actor-Critic Methods\",\"AdaBoost\",\"Affinity propagation\",\"Agglomerative clustering\",\"Artificial Neural Networks\",\"Asynchronous Advantage Actor-Critic\",\"Autoencoders\",\"BIRCH (Balanced Iterative Reducing and Clustering using Hierarchies)\",\"Conditional GAN\",\"Decision Trees\",\"Decision tree regression\",\"Deep Conolutional GAN\",\"Deep Convolutional Network\",\"Deep Deterministic Policy Gradient\",\"Deep Feed Forward\",\"Deep Q-Networks\",\"Denoising Auto Encoder\",\"Density-Based Spatial Clustering of Applications with Noise\",\"Elastic Net regression\",\"Factor Analysis of Mixed Data\",\"Feed Forward\",\"Gated Recurrent Unit\",\"Gaussian mixture models\",\"Generative Adversarial Network\",\"Gradient Boosting Machines\",\"Gradient boosting regression\",\"Hierarchical clustering\",\"Independent Component Analysis\",\"Isomap\",\"K-Nearest Neighbors Regression\",\"K-means clustering\",\"Label Propagation \",\"Label Spreading\",\"Lasso regression\",\"Linear Discriminant Analysis\",\"Linear Discriminant Analysis \",\"Linear regression\",\"Logistic Regression\",\"Long Short Term Memory\",\"Mean-shift clustering\",\"Multi-Agent Deep Deterministic Policy Gradient\",\"Multidimensional Scaling\",\"Multiple regression\",\"Naive Bayes\",\"Non-negative Matrix Factorization \",\"OPTICS (Ordering Points To Identify the Clustering Structure)\",\"Policy Gradient Methods\",\"Polynomial regression\",\"Principal Component Analysis \",\"Proximal Policy Optimization \",\"Q-learning\",\"Random Forest\",\"Random Projection\",\"Random forest regression\",\"Recurrent Neural Network\",\"Ridge regression\",\"SARSA (State-Action-Reward-State-Action)\",\"Self-Training Classifier \",\"Singular Value Decomposition\",\"Soft Actor-Critic\",\"Sparse Auto Encoder \",\"Spectral clustering\",\"Support Vector Machines\",\"Support Vector Regression \",\"Transposed Convolutional Network \",\"Trust Region Policy Optimization\",\"Undercomplete Auto Encoder \",\"Variational Auto Encoder \",\"Wasserstein Gan\",\"k-Nearest Neighbors\",\"t-Distributed Stochastic Neighbor Embedding\",\"Auto Encoders\",\"Classification\",\"Clustering \",\"Convolutional Network \",\"Dimensionality Reduction \",\"Feed Forward Neural Networks \",\"Generative Adversarial Networks \",\"Label Propagation \",\"Label Spreading\",\"Policy-Based Methods \",\"Recurrent Neural Networks\",\"Regression \",\"Self-Training Classifier \",\"Value Based Methods \",\"Deep Learning \",\"Reinforcement Learning \",\"Semi-Supervised \",\"Supervised\",\"Unsupervised \",\"Machine Learning\"],\"maxdepth\":3,\"name\":\"\",\"parents\":[\"Machine Learning/Reinforcement Learning /Policy-Based Methods \",\"Machine Learning/Supervised/Classification\",\"Machine Learning/Unsupervised /Clustering \",\"Machine Learning/Unsupervised /Clustering \",\"Machine Learning/Supervised/Classification\",\"Machine Learning/Reinforcement Learning /Policy-Based Methods \",\"Machine Learning/Unsupervised /Dimensionality Reduction \",\"Machine Learning/Unsupervised /Clustering \",\"Machine Learning/Deep Learning /Generative Adversarial Networks \",\"Machine Learning/Supervised/Classification\",\"Machine Learning/Supervised/Regression \",\"Machine Learning/Deep Learning /Generative Adversarial Networks \",\"Machine Learning/Deep Learning /Convolutional Network \",\"Machine Learning/Reinforcement Learning /Policy-Based Methods \",\"Machine Learning/Deep Learning /Feed Forward Neural Networks \",\"Machine Learning/Reinforcement Learning /Value Based Methods \",\"Machine Learning/Deep Learning /Auto Encoders\",\"Machine Learning/Unsupervised /Clustering \",\"Machine Learning/Supervised/Regression \",\"Machine Learning/Unsupervised /Dimensionality Reduction \",\"Machine Learning/Deep Learning /Feed Forward Neural Networks \",\"Machine Learning/Deep Learning /Recurrent Neural Networks\",\"Machine Learning/Unsupervised /Clustering \",\"Machine Learning/Deep Learning /Generative Adversarial Networks \",\"Machine Learning/Supervised/Classification\",\"Machine Learning/Supervised/Regression \",\"Machine Learning/Unsupervised /Clustering \",\"Machine Learning/Unsupervised /Dimensionality Reduction \",\"Machine Learning/Unsupervised /Dimensionality Reduction \",\"Machine Learning/Supervised/Regression \",\"Machine Learning/Unsupervised /Clustering \",\"Machine Learning/Semi-Supervised /Label Propagation \",\"Machine Learning/Semi-Supervised /Label Spreading\",\"Machine Learning/Supervised/Regression \",\"Machine Learning/Unsupervised /Dimensionality Reduction \",\"Machine Learning/Supervised/Classification\",\"Machine Learning/Supervised/Regression \",\"Machine Learning/Supervised/Classification\",\"Machine Learning/Deep Learning /Recurrent Neural Networks\",\"Machine Learning/Unsupervised /Clustering \",\"Machine Learning/Reinforcement Learning /Policy-Based Methods \",\"Machine Learning/Unsupervised /Dimensionality Reduction \",\"Machine Learning/Supervised/Regression \",\"Machine Learning/Supervised/Classification\",\"Machine Learning/Unsupervised /Dimensionality Reduction \",\"Machine Learning/Unsupervised /Clustering \",\"Machine Learning/Reinforcement Learning /Policy-Based Methods \",\"Machine Learning/Supervised/Regression \",\"Machine Learning/Unsupervised /Dimensionality Reduction \",\"Machine Learning/Reinforcement Learning /Policy-Based Methods \",\"Machine Learning/Reinforcement Learning /Value Based Methods \",\"Machine Learning/Supervised/Classification\",\"Machine Learning/Unsupervised /Dimensionality Reduction \",\"Machine Learning/Supervised/Regression \",\"Machine Learning/Deep Learning /Recurrent Neural Networks\",\"Machine Learning/Supervised/Regression \",\"Machine Learning/Reinforcement Learning /Value Based Methods \",\"Machine Learning/Semi-Supervised /Self-Training Classifier \",\"Machine Learning/Unsupervised /Dimensionality Reduction \",\"Machine Learning/Reinforcement Learning /Policy-Based Methods \",\"Machine Learning/Deep Learning /Auto Encoders\",\"Machine Learning/Unsupervised /Clustering \",\"Machine Learning/Supervised/Classification\",\"Machine Learning/Supervised/Regression \",\"Machine Learning/Deep Learning /Convolutional Network \",\"Machine Learning/Reinforcement Learning /Policy-Based Methods \",\"Machine Learning/Deep Learning /Auto Encoders\",\"Machine Learning/Deep Learning /Auto Encoders\",\"Machine Learning/Deep Learning /Generative Adversarial Networks \",\"Machine Learning/Supervised/Classification\",\"Machine Learning/Unsupervised /Dimensionality Reduction \",\"Machine Learning/Deep Learning \",\"Machine Learning/Supervised\",\"Machine Learning/Unsupervised \",\"Machine Learning/Deep Learning \",\"Machine Learning/Unsupervised \",\"Machine Learning/Deep Learning \",\"Machine Learning/Deep Learning \",\"Machine Learning/Semi-Supervised \",\"Machine Learning/Semi-Supervised \",\"Machine Learning/Reinforcement Learning \",\"Machine Learning/Deep Learning \",\"Machine Learning/Supervised\",\"Machine Learning/Semi-Supervised \",\"Machine Learning/Reinforcement Learning \",\"Machine Learning\",\"Machine Learning\",\"Machine Learning\",\"Machine Learning\",\"Machine Learning\",\"\"],\"values\":[1,1,1,1,1,1,1,1,1,1,1,1,1,1,1,1,1,1,1,1,1,1,1,1,1,1,1,1,1,1,1,1,1,1,1,1,1,1,1,1,1,1,1,1,1,1,1,1,1,1,1,1,1,1,1,1,1,1,1,1,1,1,1,1,1,1,1,1,1,1,1,4,10,10,2,11,2,4,1,1,8,3,11,1,3,15,11,3,21,21,71],\"type\":\"sunburst\"}],                        {\"template\":{\"data\":{\"histogram2dcontour\":[{\"type\":\"histogram2dcontour\",\"colorbar\":{\"outlinewidth\":0,\"ticks\":\"\"},\"colorscale\":[[0.0,\"#0d0887\"],[0.1111111111111111,\"#46039f\"],[0.2222222222222222,\"#7201a8\"],[0.3333333333333333,\"#9c179e\"],[0.4444444444444444,\"#bd3786\"],[0.5555555555555556,\"#d8576b\"],[0.6666666666666666,\"#ed7953\"],[0.7777777777777778,\"#fb9f3a\"],[0.8888888888888888,\"#fdca26\"],[1.0,\"#f0f921\"]]}],\"choropleth\":[{\"type\":\"choropleth\",\"colorbar\":{\"outlinewidth\":0,\"ticks\":\"\"}}],\"histogram2d\":[{\"type\":\"histogram2d\",\"colorbar\":{\"outlinewidth\":0,\"ticks\":\"\"},\"colorscale\":[[0.0,\"#0d0887\"],[0.1111111111111111,\"#46039f\"],[0.2222222222222222,\"#7201a8\"],[0.3333333333333333,\"#9c179e\"],[0.4444444444444444,\"#bd3786\"],[0.5555555555555556,\"#d8576b\"],[0.6666666666666666,\"#ed7953\"],[0.7777777777777778,\"#fb9f3a\"],[0.8888888888888888,\"#fdca26\"],[1.0,\"#f0f921\"]]}],\"heatmap\":[{\"type\":\"heatmap\",\"colorbar\":{\"outlinewidth\":0,\"ticks\":\"\"},\"colorscale\":[[0.0,\"#0d0887\"],[0.1111111111111111,\"#46039f\"],[0.2222222222222222,\"#7201a8\"],[0.3333333333333333,\"#9c179e\"],[0.4444444444444444,\"#bd3786\"],[0.5555555555555556,\"#d8576b\"],[0.6666666666666666,\"#ed7953\"],[0.7777777777777778,\"#fb9f3a\"],[0.8888888888888888,\"#fdca26\"],[1.0,\"#f0f921\"]]}],\"heatmapgl\":[{\"type\":\"heatmapgl\",\"colorbar\":{\"outlinewidth\":0,\"ticks\":\"\"},\"colorscale\":[[0.0,\"#0d0887\"],[0.1111111111111111,\"#46039f\"],[0.2222222222222222,\"#7201a8\"],[0.3333333333333333,\"#9c179e\"],[0.4444444444444444,\"#bd3786\"],[0.5555555555555556,\"#d8576b\"],[0.6666666666666666,\"#ed7953\"],[0.7777777777777778,\"#fb9f3a\"],[0.8888888888888888,\"#fdca26\"],[1.0,\"#f0f921\"]]}],\"contourcarpet\":[{\"type\":\"contourcarpet\",\"colorbar\":{\"outlinewidth\":0,\"ticks\":\"\"}}],\"contour\":[{\"type\":\"contour\",\"colorbar\":{\"outlinewidth\":0,\"ticks\":\"\"},\"colorscale\":[[0.0,\"#0d0887\"],[0.1111111111111111,\"#46039f\"],[0.2222222222222222,\"#7201a8\"],[0.3333333333333333,\"#9c179e\"],[0.4444444444444444,\"#bd3786\"],[0.5555555555555556,\"#d8576b\"],[0.6666666666666666,\"#ed7953\"],[0.7777777777777778,\"#fb9f3a\"],[0.8888888888888888,\"#fdca26\"],[1.0,\"#f0f921\"]]}],\"surface\":[{\"type\":\"surface\",\"colorbar\":{\"outlinewidth\":0,\"ticks\":\"\"},\"colorscale\":[[0.0,\"#0d0887\"],[0.1111111111111111,\"#46039f\"],[0.2222222222222222,\"#7201a8\"],[0.3333333333333333,\"#9c179e\"],[0.4444444444444444,\"#bd3786\"],[0.5555555555555556,\"#d8576b\"],[0.6666666666666666,\"#ed7953\"],[0.7777777777777778,\"#fb9f3a\"],[0.8888888888888888,\"#fdca26\"],[1.0,\"#f0f921\"]]}],\"mesh3d\":[{\"type\":\"mesh3d\",\"colorbar\":{\"outlinewidth\":0,\"ticks\":\"\"}}],\"scatter\":[{\"fillpattern\":{\"fillmode\":\"overlay\",\"size\":10,\"solidity\":0.2},\"type\":\"scatter\"}],\"parcoords\":[{\"type\":\"parcoords\",\"line\":{\"colorbar\":{\"outlinewidth\":0,\"ticks\":\"\"}}}],\"scatterpolargl\":[{\"type\":\"scatterpolargl\",\"marker\":{\"colorbar\":{\"outlinewidth\":0,\"ticks\":\"\"}}}],\"bar\":[{\"error_x\":{\"color\":\"#2a3f5f\"},\"error_y\":{\"color\":\"#2a3f5f\"},\"marker\":{\"line\":{\"color\":\"#E5ECF6\",\"width\":0.5},\"pattern\":{\"fillmode\":\"overlay\",\"size\":10,\"solidity\":0.2}},\"type\":\"bar\"}],\"scattergeo\":[{\"type\":\"scattergeo\",\"marker\":{\"colorbar\":{\"outlinewidth\":0,\"ticks\":\"\"}}}],\"scatterpolar\":[{\"type\":\"scatterpolar\",\"marker\":{\"colorbar\":{\"outlinewidth\":0,\"ticks\":\"\"}}}],\"histogram\":[{\"marker\":{\"pattern\":{\"fillmode\":\"overlay\",\"size\":10,\"solidity\":0.2}},\"type\":\"histogram\"}],\"scattergl\":[{\"type\":\"scattergl\",\"marker\":{\"colorbar\":{\"outlinewidth\":0,\"ticks\":\"\"}}}],\"scatter3d\":[{\"type\":\"scatter3d\",\"line\":{\"colorbar\":{\"outlinewidth\":0,\"ticks\":\"\"}},\"marker\":{\"colorbar\":{\"outlinewidth\":0,\"ticks\":\"\"}}}],\"scattermapbox\":[{\"type\":\"scattermapbox\",\"marker\":{\"colorbar\":{\"outlinewidth\":0,\"ticks\":\"\"}}}],\"scatterternary\":[{\"type\":\"scatterternary\",\"marker\":{\"colorbar\":{\"outlinewidth\":0,\"ticks\":\"\"}}}],\"scattercarpet\":[{\"type\":\"scattercarpet\",\"marker\":{\"colorbar\":{\"outlinewidth\":0,\"ticks\":\"\"}}}],\"carpet\":[{\"aaxis\":{\"endlinecolor\":\"#2a3f5f\",\"gridcolor\":\"white\",\"linecolor\":\"white\",\"minorgridcolor\":\"white\",\"startlinecolor\":\"#2a3f5f\"},\"baxis\":{\"endlinecolor\":\"#2a3f5f\",\"gridcolor\":\"white\",\"linecolor\":\"white\",\"minorgridcolor\":\"white\",\"startlinecolor\":\"#2a3f5f\"},\"type\":\"carpet\"}],\"table\":[{\"cells\":{\"fill\":{\"color\":\"#EBF0F8\"},\"line\":{\"color\":\"white\"}},\"header\":{\"fill\":{\"color\":\"#C8D4E3\"},\"line\":{\"color\":\"white\"}},\"type\":\"table\"}],\"barpolar\":[{\"marker\":{\"line\":{\"color\":\"#E5ECF6\",\"width\":0.5},\"pattern\":{\"fillmode\":\"overlay\",\"size\":10,\"solidity\":0.2}},\"type\":\"barpolar\"}],\"pie\":[{\"automargin\":true,\"type\":\"pie\"}]},\"layout\":{\"autotypenumbers\":\"strict\",\"colorway\":[\"#636efa\",\"#EF553B\",\"#00cc96\",\"#ab63fa\",\"#FFA15A\",\"#19d3f3\",\"#FF6692\",\"#B6E880\",\"#FF97FF\",\"#FECB52\"],\"font\":{\"color\":\"#2a3f5f\"},\"hovermode\":\"closest\",\"hoverlabel\":{\"align\":\"left\"},\"paper_bgcolor\":\"white\",\"plot_bgcolor\":\"#E5ECF6\",\"polar\":{\"bgcolor\":\"#E5ECF6\",\"angularaxis\":{\"gridcolor\":\"white\",\"linecolor\":\"white\",\"ticks\":\"\"},\"radialaxis\":{\"gridcolor\":\"white\",\"linecolor\":\"white\",\"ticks\":\"\"}},\"ternary\":{\"bgcolor\":\"#E5ECF6\",\"aaxis\":{\"gridcolor\":\"white\",\"linecolor\":\"white\",\"ticks\":\"\"},\"baxis\":{\"gridcolor\":\"white\",\"linecolor\":\"white\",\"ticks\":\"\"},\"caxis\":{\"gridcolor\":\"white\",\"linecolor\":\"white\",\"ticks\":\"\"}},\"coloraxis\":{\"colorbar\":{\"outlinewidth\":0,\"ticks\":\"\"}},\"colorscale\":{\"sequential\":[[0.0,\"#0d0887\"],[0.1111111111111111,\"#46039f\"],[0.2222222222222222,\"#7201a8\"],[0.3333333333333333,\"#9c179e\"],[0.4444444444444444,\"#bd3786\"],[0.5555555555555556,\"#d8576b\"],[0.6666666666666666,\"#ed7953\"],[0.7777777777777778,\"#fb9f3a\"],[0.8888888888888888,\"#fdca26\"],[1.0,\"#f0f921\"]],\"sequentialminus\":[[0.0,\"#0d0887\"],[0.1111111111111111,\"#46039f\"],[0.2222222222222222,\"#7201a8\"],[0.3333333333333333,\"#9c179e\"],[0.4444444444444444,\"#bd3786\"],[0.5555555555555556,\"#d8576b\"],[0.6666666666666666,\"#ed7953\"],[0.7777777777777778,\"#fb9f3a\"],[0.8888888888888888,\"#fdca26\"],[1.0,\"#f0f921\"]],\"diverging\":[[0,\"#8e0152\"],[0.1,\"#c51b7d\"],[0.2,\"#de77ae\"],[0.3,\"#f1b6da\"],[0.4,\"#fde0ef\"],[0.5,\"#f7f7f7\"],[0.6,\"#e6f5d0\"],[0.7,\"#b8e186\"],[0.8,\"#7fbc41\"],[0.9,\"#4d9221\"],[1,\"#276419\"]]},\"xaxis\":{\"gridcolor\":\"white\",\"linecolor\":\"white\",\"ticks\":\"\",\"title\":{\"standoff\":15},\"zerolinecolor\":\"white\",\"automargin\":true,\"zerolinewidth\":2},\"yaxis\":{\"gridcolor\":\"white\",\"linecolor\":\"white\",\"ticks\":\"\",\"title\":{\"standoff\":15},\"zerolinecolor\":\"white\",\"automargin\":true,\"zerolinewidth\":2},\"scene\":{\"xaxis\":{\"backgroundcolor\":\"#E5ECF6\",\"gridcolor\":\"white\",\"linecolor\":\"white\",\"showbackground\":true,\"ticks\":\"\",\"zerolinecolor\":\"white\",\"gridwidth\":2},\"yaxis\":{\"backgroundcolor\":\"#E5ECF6\",\"gridcolor\":\"white\",\"linecolor\":\"white\",\"showbackground\":true,\"ticks\":\"\",\"zerolinecolor\":\"white\",\"gridwidth\":2},\"zaxis\":{\"backgroundcolor\":\"#E5ECF6\",\"gridcolor\":\"white\",\"linecolor\":\"white\",\"showbackground\":true,\"ticks\":\"\",\"zerolinecolor\":\"white\",\"gridwidth\":2}},\"shapedefaults\":{\"line\":{\"color\":\"#2a3f5f\"}},\"annotationdefaults\":{\"arrowcolor\":\"#2a3f5f\",\"arrowhead\":0,\"arrowwidth\":1},\"geo\":{\"bgcolor\":\"white\",\"landcolor\":\"#E5ECF6\",\"subunitcolor\":\"white\",\"showland\":true,\"showlakes\":true,\"lakecolor\":\"white\"},\"title\":{\"x\":0.05},\"mapbox\":{\"style\":\"light\"}}},\"legend\":{\"tracegroupgap\":0},\"margin\":{\"t\":60},\"uniformtext\":{\"minsize\":24}},                        {\"responsive\": true}                    ).then(function(){\n",
              "                            \n",
              "var gd = document.getElementById('d1f959b1-dff4-4bfd-8283-bcc31b8cd7ce');\n",
              "var x = new MutationObserver(function (mutations, observer) {{\n",
              "        var display = window.getComputedStyle(gd).display;\n",
              "        if (!display || display === 'none') {{\n",
              "            console.log([gd, 'removed!']);\n",
              "            Plotly.purge(gd);\n",
              "            observer.disconnect();\n",
              "        }}\n",
              "}});\n",
              "\n",
              "// Listen for the removal of the full notebook cells\n",
              "var notebookContainer = gd.closest('#notebook-container');\n",
              "if (notebookContainer) {{\n",
              "    x.observe(notebookContainer, {childList: true});\n",
              "}}\n",
              "\n",
              "// Listen for the clearing of the current output cell\n",
              "var outputEl = gd.closest('.output');\n",
              "if (outputEl) {{\n",
              "    x.observe(outputEl, {childList: true});\n",
              "}}\n",
              "\n",
              "                        })                };                            </script>        </div>\n",
              "</body>\n",
              "</html>"
            ]
          },
          "metadata": {}
        },
        {
          "output_type": "display_data",
          "data": {
            "text/html": [
              "<html>\n",
              "<head><meta charset=\"utf-8\" /></head>\n",
              "<body>\n",
              "    <div>            <script src=\"https://cdnjs.cloudflare.com/ajax/libs/mathjax/2.7.5/MathJax.js?config=TeX-AMS-MML_SVG\"></script><script type=\"text/javascript\">if (window.MathJax && window.MathJax.Hub && window.MathJax.Hub.Config) {window.MathJax.Hub.Config({SVG: {font: \"STIX-Web\"}});}</script>                <script type=\"text/javascript\">window.PlotlyConfig = {MathJaxConfig: 'local'};</script>\n",
              "        <script src=\"https://cdn.plot.ly/plotly-2.18.2.min.js\"></script>                <div id=\"7ea48c5e-bb07-422a-a650-43a23b6f8d5a\" class=\"plotly-graph-div\" style=\"height:525px; width:100%;\"></div>            <script type=\"text/javascript\">                                    window.PLOTLYENV=window.PLOTLYENV || {};                                    if (document.getElementById(\"7ea48c5e-bb07-422a-a650-43a23b6f8d5a\")) {                    Plotly.newPlot(                        \"7ea48c5e-bb07-422a-a650-43a23b6f8d5a\",                        [{\"branchvalues\":\"total\",\"domain\":{\"x\":[0.0,1.0],\"y\":[0.0,1.0]},\"hovertemplate\":\"labels=%{label}<br>count=%{value}<br>parent=%{parent}<br>id=%{id}<extra></extra>\",\"ids\":[\"Machine Learning/Reinforcement Learning /Policy-Based Methods /Actor-Critic Methods\",\"Machine Learning/Supervised/Classification/AdaBoost\",\"Machine Learning/Unsupervised /Clustering /Affinity propagation\",\"Machine Learning/Unsupervised /Clustering /Agglomerative clustering\",\"Machine Learning/Supervised/Classification/Artificial Neural Networks\",\"Machine Learning/Reinforcement Learning /Policy-Based Methods /Asynchronous Advantage Actor-Critic\",\"Machine Learning/Unsupervised /Dimensionality Reduction /Autoencoders\",\"Machine Learning/Unsupervised /Clustering /BIRCH (Balanced Iterative Reducing and Clustering using Hierarchies)\",\"Machine Learning/Deep Learning /Generative Adversarial Networks /Conditional GAN\",\"Machine Learning/Supervised/Classification/Decision Trees\",\"Machine Learning/Supervised/Regression /Decision tree regression\",\"Machine Learning/Deep Learning /Generative Adversarial Networks /Deep Conolutional GAN\",\"Machine Learning/Deep Learning /Convolutional Network /Deep Convolutional Network\",\"Machine Learning/Reinforcement Learning /Policy-Based Methods /Deep Deterministic Policy Gradient\",\"Machine Learning/Deep Learning /Feed Forward Neural Networks /Deep Feed Forward\",\"Machine Learning/Reinforcement Learning /Value Based Methods /Deep Q-Networks\",\"Machine Learning/Deep Learning /Auto Encoders/Denoising Auto Encoder\",\"Machine Learning/Unsupervised /Clustering /Density-Based Spatial Clustering of Applications with Noise\",\"Machine Learning/Supervised/Regression /Elastic Net regression\",\"Machine Learning/Unsupervised /Dimensionality Reduction /Factor Analysis of Mixed Data\",\"Machine Learning/Deep Learning /Feed Forward Neural Networks /Feed Forward\",\"Machine Learning/Deep Learning /Recurrent Neural Networks/Gated Recurrent Unit\",\"Machine Learning/Unsupervised /Clustering /Gaussian mixture models\",\"Machine Learning/Deep Learning /Generative Adversarial Networks /Generative Adversarial Network\",\"Machine Learning/Supervised/Classification/Gradient Boosting Machines\",\"Machine Learning/Supervised/Regression /Gradient boosting regression\",\"Machine Learning/Unsupervised /Clustering /Hierarchical clustering\",\"Machine Learning/Unsupervised /Dimensionality Reduction /Independent Component Analysis\",\"Machine Learning/Unsupervised /Dimensionality Reduction /Isomap\",\"Machine Learning/Supervised/Regression /K-Nearest Neighbors Regression\",\"Machine Learning/Unsupervised /Clustering /K-means clustering\",\"Machine Learning/Semi-Supervised /Label Propagation /Label Propagation \",\"Machine Learning/Semi-Supervised /Label Spreading/Label Spreading\",\"Machine Learning/Supervised/Regression /Lasso regression\",\"Machine Learning/Unsupervised /Dimensionality Reduction /Linear Discriminant Analysis\",\"Machine Learning/Supervised/Classification/Linear Discriminant Analysis \",\"Machine Learning/Supervised/Regression /Linear regression\",\"Machine Learning/Supervised/Classification/Logistic Regression\",\"Machine Learning/Deep Learning /Recurrent Neural Networks/Long Short Term Memory\",\"Machine Learning/Unsupervised /Clustering /Mean-shift clustering\",\"Machine Learning/Reinforcement Learning /Policy-Based Methods /Multi-Agent Deep Deterministic Policy Gradient\",\"Machine Learning/Unsupervised /Dimensionality Reduction /Multidimensional Scaling\",\"Machine Learning/Supervised/Regression /Multiple regression\",\"Machine Learning/Supervised/Classification/Naive Bayes\",\"Machine Learning/Unsupervised /Dimensionality Reduction /Non-negative Matrix Factorization \",\"Machine Learning/Unsupervised /Clustering /OPTICS (Ordering Points To Identify the Clustering Structure)\",\"Machine Learning/Reinforcement Learning /Policy-Based Methods /Policy Gradient Methods\",\"Machine Learning/Supervised/Regression /Polynomial regression\",\"Machine Learning/Unsupervised /Dimensionality Reduction /Principal Component Analysis \",\"Machine Learning/Reinforcement Learning /Policy-Based Methods /Proximal Policy Optimization \",\"Machine Learning/Reinforcement Learning /Value Based Methods /Q-learning\",\"Machine Learning/Supervised/Classification/Random Forest\",\"Machine Learning/Unsupervised /Dimensionality Reduction /Random Projection\",\"Machine Learning/Supervised/Regression /Random forest regression\",\"Machine Learning/Deep Learning /Recurrent Neural Networks/Recurrent Neural Network\",\"Machine Learning/Supervised/Regression /Ridge regression\",\"Machine Learning/Reinforcement Learning /Value Based Methods /SARSA (State-Action-Reward-State-Action)\",\"Machine Learning/Semi-Supervised /Self-Training Classifier /Self-Training Classifier \",\"Machine Learning/Unsupervised /Dimensionality Reduction /Singular Value Decomposition\",\"Machine Learning/Reinforcement Learning /Policy-Based Methods /Soft Actor-Critic\",\"Machine Learning/Deep Learning /Auto Encoders/Sparse Auto Encoder \",\"Machine Learning/Unsupervised /Clustering /Spectral clustering\",\"Machine Learning/Supervised/Classification/Support Vector Machines\",\"Machine Learning/Supervised/Regression /Support Vector Regression \",\"Machine Learning/Deep Learning /Convolutional Network /Transposed Convolutional Network \",\"Machine Learning/Reinforcement Learning /Policy-Based Methods /Trust Region Policy Optimization\",\"Machine Learning/Deep Learning /Auto Encoders/Undercomplete Auto Encoder \",\"Machine Learning/Deep Learning /Auto Encoders/Variational Auto Encoder \",\"Machine Learning/Deep Learning /Generative Adversarial Networks /Wasserstein Gan\",\"Machine Learning/Supervised/Classification/k-Nearest Neighbors\",\"Machine Learning/Unsupervised /Dimensionality Reduction /t-Distributed Stochastic Neighbor Embedding\",\"Machine Learning/Deep Learning /Auto Encoders\",\"Machine Learning/Supervised/Classification\",\"Machine Learning/Unsupervised /Clustering \",\"Machine Learning/Deep Learning /Convolutional Network \",\"Machine Learning/Unsupervised /Dimensionality Reduction \",\"Machine Learning/Deep Learning /Feed Forward Neural Networks \",\"Machine Learning/Deep Learning /Generative Adversarial Networks \",\"Machine Learning/Semi-Supervised /Label Propagation \",\"Machine Learning/Semi-Supervised /Label Spreading\",\"Machine Learning/Reinforcement Learning /Policy-Based Methods \",\"Machine Learning/Deep Learning /Recurrent Neural Networks\",\"Machine Learning/Supervised/Regression \",\"Machine Learning/Semi-Supervised /Self-Training Classifier \",\"Machine Learning/Reinforcement Learning /Value Based Methods \",\"Machine Learning/Deep Learning \",\"Machine Learning/Reinforcement Learning \",\"Machine Learning/Semi-Supervised \",\"Machine Learning/Supervised\",\"Machine Learning/Unsupervised \",\"Machine Learning\"],\"labels\":[\"Actor-Critic Methods\",\"AdaBoost\",\"Affinity propagation\",\"Agglomerative clustering\",\"Artificial Neural Networks\",\"Asynchronous Advantage Actor-Critic\",\"Autoencoders\",\"BIRCH (Balanced Iterative Reducing and Clustering using Hierarchies)\",\"Conditional GAN\",\"Decision Trees\",\"Decision tree regression\",\"Deep Conolutional GAN\",\"Deep Convolutional Network\",\"Deep Deterministic Policy Gradient\",\"Deep Feed Forward\",\"Deep Q-Networks\",\"Denoising Auto Encoder\",\"Density-Based Spatial Clustering of Applications with Noise\",\"Elastic Net regression\",\"Factor Analysis of Mixed Data\",\"Feed Forward\",\"Gated Recurrent Unit\",\"Gaussian mixture models\",\"Generative Adversarial Network\",\"Gradient Boosting Machines\",\"Gradient boosting regression\",\"Hierarchical clustering\",\"Independent Component Analysis\",\"Isomap\",\"K-Nearest Neighbors Regression\",\"K-means clustering\",\"Label Propagation \",\"Label Spreading\",\"Lasso regression\",\"Linear Discriminant Analysis\",\"Linear Discriminant Analysis \",\"Linear regression\",\"Logistic Regression\",\"Long Short Term Memory\",\"Mean-shift clustering\",\"Multi-Agent Deep Deterministic Policy Gradient\",\"Multidimensional Scaling\",\"Multiple regression\",\"Naive Bayes\",\"Non-negative Matrix Factorization \",\"OPTICS (Ordering Points To Identify the Clustering Structure)\",\"Policy Gradient Methods\",\"Polynomial regression\",\"Principal Component Analysis \",\"Proximal Policy Optimization \",\"Q-learning\",\"Random Forest\",\"Random Projection\",\"Random forest regression\",\"Recurrent Neural Network\",\"Ridge regression\",\"SARSA (State-Action-Reward-State-Action)\",\"Self-Training Classifier \",\"Singular Value Decomposition\",\"Soft Actor-Critic\",\"Sparse Auto Encoder \",\"Spectral clustering\",\"Support Vector Machines\",\"Support Vector Regression \",\"Transposed Convolutional Network \",\"Trust Region Policy Optimization\",\"Undercomplete Auto Encoder \",\"Variational Auto Encoder \",\"Wasserstein Gan\",\"k-Nearest Neighbors\",\"t-Distributed Stochastic Neighbor Embedding\",\"Auto Encoders\",\"Classification\",\"Clustering \",\"Convolutional Network \",\"Dimensionality Reduction \",\"Feed Forward Neural Networks \",\"Generative Adversarial Networks \",\"Label Propagation \",\"Label Spreading\",\"Policy-Based Methods \",\"Recurrent Neural Networks\",\"Regression \",\"Self-Training Classifier \",\"Value Based Methods \",\"Deep Learning \",\"Reinforcement Learning \",\"Semi-Supervised \",\"Supervised\",\"Unsupervised \",\"Machine Learning\"],\"maxdepth\":3,\"name\":\"\",\"parents\":[\"Machine Learning/Reinforcement Learning /Policy-Based Methods \",\"Machine Learning/Supervised/Classification\",\"Machine Learning/Unsupervised /Clustering \",\"Machine Learning/Unsupervised /Clustering \",\"Machine Learning/Supervised/Classification\",\"Machine Learning/Reinforcement Learning /Policy-Based Methods \",\"Machine Learning/Unsupervised /Dimensionality Reduction \",\"Machine Learning/Unsupervised /Clustering \",\"Machine Learning/Deep Learning /Generative Adversarial Networks \",\"Machine Learning/Supervised/Classification\",\"Machine Learning/Supervised/Regression \",\"Machine Learning/Deep Learning /Generative Adversarial Networks \",\"Machine Learning/Deep Learning /Convolutional Network \",\"Machine Learning/Reinforcement Learning /Policy-Based Methods \",\"Machine Learning/Deep Learning /Feed Forward Neural Networks \",\"Machine Learning/Reinforcement Learning /Value Based Methods \",\"Machine Learning/Deep Learning /Auto Encoders\",\"Machine Learning/Unsupervised /Clustering \",\"Machine Learning/Supervised/Regression \",\"Machine Learning/Unsupervised /Dimensionality Reduction \",\"Machine Learning/Deep Learning /Feed Forward Neural Networks \",\"Machine Learning/Deep Learning /Recurrent Neural Networks\",\"Machine Learning/Unsupervised /Clustering \",\"Machine Learning/Deep Learning /Generative Adversarial Networks \",\"Machine Learning/Supervised/Classification\",\"Machine Learning/Supervised/Regression \",\"Machine Learning/Unsupervised /Clustering \",\"Machine Learning/Unsupervised /Dimensionality Reduction \",\"Machine Learning/Unsupervised /Dimensionality Reduction \",\"Machine Learning/Supervised/Regression \",\"Machine Learning/Unsupervised /Clustering \",\"Machine Learning/Semi-Supervised /Label Propagation \",\"Machine Learning/Semi-Supervised /Label Spreading\",\"Machine Learning/Supervised/Regression \",\"Machine Learning/Unsupervised /Dimensionality Reduction \",\"Machine Learning/Supervised/Classification\",\"Machine Learning/Supervised/Regression \",\"Machine Learning/Supervised/Classification\",\"Machine Learning/Deep Learning /Recurrent Neural Networks\",\"Machine Learning/Unsupervised /Clustering \",\"Machine Learning/Reinforcement Learning /Policy-Based Methods \",\"Machine Learning/Unsupervised /Dimensionality Reduction \",\"Machine Learning/Supervised/Regression \",\"Machine Learning/Supervised/Classification\",\"Machine Learning/Unsupervised /Dimensionality Reduction \",\"Machine Learning/Unsupervised /Clustering \",\"Machine Learning/Reinforcement Learning /Policy-Based Methods \",\"Machine Learning/Supervised/Regression \",\"Machine Learning/Unsupervised /Dimensionality Reduction \",\"Machine Learning/Reinforcement Learning /Policy-Based Methods \",\"Machine Learning/Reinforcement Learning /Value Based Methods \",\"Machine Learning/Supervised/Classification\",\"Machine Learning/Unsupervised /Dimensionality Reduction \",\"Machine Learning/Supervised/Regression \",\"Machine Learning/Deep Learning /Recurrent Neural Networks\",\"Machine Learning/Supervised/Regression \",\"Machine Learning/Reinforcement Learning /Value Based Methods \",\"Machine Learning/Semi-Supervised /Self-Training Classifier \",\"Machine Learning/Unsupervised /Dimensionality Reduction \",\"Machine Learning/Reinforcement Learning /Policy-Based Methods \",\"Machine Learning/Deep Learning /Auto Encoders\",\"Machine Learning/Unsupervised /Clustering \",\"Machine Learning/Supervised/Classification\",\"Machine Learning/Supervised/Regression \",\"Machine Learning/Deep Learning /Convolutional Network \",\"Machine Learning/Reinforcement Learning /Policy-Based Methods \",\"Machine Learning/Deep Learning /Auto Encoders\",\"Machine Learning/Deep Learning /Auto Encoders\",\"Machine Learning/Deep Learning /Generative Adversarial Networks \",\"Machine Learning/Supervised/Classification\",\"Machine Learning/Unsupervised /Dimensionality Reduction \",\"Machine Learning/Deep Learning \",\"Machine Learning/Supervised\",\"Machine Learning/Unsupervised \",\"Machine Learning/Deep Learning \",\"Machine Learning/Unsupervised \",\"Machine Learning/Deep Learning \",\"Machine Learning/Deep Learning \",\"Machine Learning/Semi-Supervised \",\"Machine Learning/Semi-Supervised \",\"Machine Learning/Reinforcement Learning \",\"Machine Learning/Deep Learning \",\"Machine Learning/Supervised\",\"Machine Learning/Semi-Supervised \",\"Machine Learning/Reinforcement Learning \",\"Machine Learning\",\"Machine Learning\",\"Machine Learning\",\"Machine Learning\",\"Machine Learning\",\"\"],\"values\":[1,1,1,1,1,1,1,1,1,1,1,1,1,1,1,1,1,1,1,1,1,1,1,1,1,1,1,1,1,1,1,1,1,1,1,1,1,1,1,1,1,1,1,1,1,1,1,1,1,1,1,1,1,1,1,1,1,1,1,1,1,1,1,1,1,1,1,1,1,1,1,4,10,10,2,11,2,4,1,1,8,3,11,1,3,15,11,3,21,21,71],\"type\":\"sunburst\"}],                        {\"template\":{\"data\":{\"histogram2dcontour\":[{\"type\":\"histogram2dcontour\",\"colorbar\":{\"outlinewidth\":0,\"ticks\":\"\"},\"colorscale\":[[0.0,\"#0d0887\"],[0.1111111111111111,\"#46039f\"],[0.2222222222222222,\"#7201a8\"],[0.3333333333333333,\"#9c179e\"],[0.4444444444444444,\"#bd3786\"],[0.5555555555555556,\"#d8576b\"],[0.6666666666666666,\"#ed7953\"],[0.7777777777777778,\"#fb9f3a\"],[0.8888888888888888,\"#fdca26\"],[1.0,\"#f0f921\"]]}],\"choropleth\":[{\"type\":\"choropleth\",\"colorbar\":{\"outlinewidth\":0,\"ticks\":\"\"}}],\"histogram2d\":[{\"type\":\"histogram2d\",\"colorbar\":{\"outlinewidth\":0,\"ticks\":\"\"},\"colorscale\":[[0.0,\"#0d0887\"],[0.1111111111111111,\"#46039f\"],[0.2222222222222222,\"#7201a8\"],[0.3333333333333333,\"#9c179e\"],[0.4444444444444444,\"#bd3786\"],[0.5555555555555556,\"#d8576b\"],[0.6666666666666666,\"#ed7953\"],[0.7777777777777778,\"#fb9f3a\"],[0.8888888888888888,\"#fdca26\"],[1.0,\"#f0f921\"]]}],\"heatmap\":[{\"type\":\"heatmap\",\"colorbar\":{\"outlinewidth\":0,\"ticks\":\"\"},\"colorscale\":[[0.0,\"#0d0887\"],[0.1111111111111111,\"#46039f\"],[0.2222222222222222,\"#7201a8\"],[0.3333333333333333,\"#9c179e\"],[0.4444444444444444,\"#bd3786\"],[0.5555555555555556,\"#d8576b\"],[0.6666666666666666,\"#ed7953\"],[0.7777777777777778,\"#fb9f3a\"],[0.8888888888888888,\"#fdca26\"],[1.0,\"#f0f921\"]]}],\"heatmapgl\":[{\"type\":\"heatmapgl\",\"colorbar\":{\"outlinewidth\":0,\"ticks\":\"\"},\"colorscale\":[[0.0,\"#0d0887\"],[0.1111111111111111,\"#46039f\"],[0.2222222222222222,\"#7201a8\"],[0.3333333333333333,\"#9c179e\"],[0.4444444444444444,\"#bd3786\"],[0.5555555555555556,\"#d8576b\"],[0.6666666666666666,\"#ed7953\"],[0.7777777777777778,\"#fb9f3a\"],[0.8888888888888888,\"#fdca26\"],[1.0,\"#f0f921\"]]}],\"contourcarpet\":[{\"type\":\"contourcarpet\",\"colorbar\":{\"outlinewidth\":0,\"ticks\":\"\"}}],\"contour\":[{\"type\":\"contour\",\"colorbar\":{\"outlinewidth\":0,\"ticks\":\"\"},\"colorscale\":[[0.0,\"#0d0887\"],[0.1111111111111111,\"#46039f\"],[0.2222222222222222,\"#7201a8\"],[0.3333333333333333,\"#9c179e\"],[0.4444444444444444,\"#bd3786\"],[0.5555555555555556,\"#d8576b\"],[0.6666666666666666,\"#ed7953\"],[0.7777777777777778,\"#fb9f3a\"],[0.8888888888888888,\"#fdca26\"],[1.0,\"#f0f921\"]]}],\"surface\":[{\"type\":\"surface\",\"colorbar\":{\"outlinewidth\":0,\"ticks\":\"\"},\"colorscale\":[[0.0,\"#0d0887\"],[0.1111111111111111,\"#46039f\"],[0.2222222222222222,\"#7201a8\"],[0.3333333333333333,\"#9c179e\"],[0.4444444444444444,\"#bd3786\"],[0.5555555555555556,\"#d8576b\"],[0.6666666666666666,\"#ed7953\"],[0.7777777777777778,\"#fb9f3a\"],[0.8888888888888888,\"#fdca26\"],[1.0,\"#f0f921\"]]}],\"mesh3d\":[{\"type\":\"mesh3d\",\"colorbar\":{\"outlinewidth\":0,\"ticks\":\"\"}}],\"scatter\":[{\"fillpattern\":{\"fillmode\":\"overlay\",\"size\":10,\"solidity\":0.2},\"type\":\"scatter\"}],\"parcoords\":[{\"type\":\"parcoords\",\"line\":{\"colorbar\":{\"outlinewidth\":0,\"ticks\":\"\"}}}],\"scatterpolargl\":[{\"type\":\"scatterpolargl\",\"marker\":{\"colorbar\":{\"outlinewidth\":0,\"ticks\":\"\"}}}],\"bar\":[{\"error_x\":{\"color\":\"#2a3f5f\"},\"error_y\":{\"color\":\"#2a3f5f\"},\"marker\":{\"line\":{\"color\":\"#E5ECF6\",\"width\":0.5},\"pattern\":{\"fillmode\":\"overlay\",\"size\":10,\"solidity\":0.2}},\"type\":\"bar\"}],\"scattergeo\":[{\"type\":\"scattergeo\",\"marker\":{\"colorbar\":{\"outlinewidth\":0,\"ticks\":\"\"}}}],\"scatterpolar\":[{\"type\":\"scatterpolar\",\"marker\":{\"colorbar\":{\"outlinewidth\":0,\"ticks\":\"\"}}}],\"histogram\":[{\"marker\":{\"pattern\":{\"fillmode\":\"overlay\",\"size\":10,\"solidity\":0.2}},\"type\":\"histogram\"}],\"scattergl\":[{\"type\":\"scattergl\",\"marker\":{\"colorbar\":{\"outlinewidth\":0,\"ticks\":\"\"}}}],\"scatter3d\":[{\"type\":\"scatter3d\",\"line\":{\"colorbar\":{\"outlinewidth\":0,\"ticks\":\"\"}},\"marker\":{\"colorbar\":{\"outlinewidth\":0,\"ticks\":\"\"}}}],\"scattermapbox\":[{\"type\":\"scattermapbox\",\"marker\":{\"colorbar\":{\"outlinewidth\":0,\"ticks\":\"\"}}}],\"scatterternary\":[{\"type\":\"scatterternary\",\"marker\":{\"colorbar\":{\"outlinewidth\":0,\"ticks\":\"\"}}}],\"scattercarpet\":[{\"type\":\"scattercarpet\",\"marker\":{\"colorbar\":{\"outlinewidth\":0,\"ticks\":\"\"}}}],\"carpet\":[{\"aaxis\":{\"endlinecolor\":\"#2a3f5f\",\"gridcolor\":\"white\",\"linecolor\":\"white\",\"minorgridcolor\":\"white\",\"startlinecolor\":\"#2a3f5f\"},\"baxis\":{\"endlinecolor\":\"#2a3f5f\",\"gridcolor\":\"white\",\"linecolor\":\"white\",\"minorgridcolor\":\"white\",\"startlinecolor\":\"#2a3f5f\"},\"type\":\"carpet\"}],\"table\":[{\"cells\":{\"fill\":{\"color\":\"#EBF0F8\"},\"line\":{\"color\":\"white\"}},\"header\":{\"fill\":{\"color\":\"#C8D4E3\"},\"line\":{\"color\":\"white\"}},\"type\":\"table\"}],\"barpolar\":[{\"marker\":{\"line\":{\"color\":\"#E5ECF6\",\"width\":0.5},\"pattern\":{\"fillmode\":\"overlay\",\"size\":10,\"solidity\":0.2}},\"type\":\"barpolar\"}],\"pie\":[{\"automargin\":true,\"type\":\"pie\"}]},\"layout\":{\"autotypenumbers\":\"strict\",\"colorway\":[\"#636efa\",\"#EF553B\",\"#00cc96\",\"#ab63fa\",\"#FFA15A\",\"#19d3f3\",\"#FF6692\",\"#B6E880\",\"#FF97FF\",\"#FECB52\"],\"font\":{\"color\":\"#2a3f5f\"},\"hovermode\":\"closest\",\"hoverlabel\":{\"align\":\"left\"},\"paper_bgcolor\":\"white\",\"plot_bgcolor\":\"#E5ECF6\",\"polar\":{\"bgcolor\":\"#E5ECF6\",\"angularaxis\":{\"gridcolor\":\"white\",\"linecolor\":\"white\",\"ticks\":\"\"},\"radialaxis\":{\"gridcolor\":\"white\",\"linecolor\":\"white\",\"ticks\":\"\"}},\"ternary\":{\"bgcolor\":\"#E5ECF6\",\"aaxis\":{\"gridcolor\":\"white\",\"linecolor\":\"white\",\"ticks\":\"\"},\"baxis\":{\"gridcolor\":\"white\",\"linecolor\":\"white\",\"ticks\":\"\"},\"caxis\":{\"gridcolor\":\"white\",\"linecolor\":\"white\",\"ticks\":\"\"}},\"coloraxis\":{\"colorbar\":{\"outlinewidth\":0,\"ticks\":\"\"}},\"colorscale\":{\"sequential\":[[0.0,\"#0d0887\"],[0.1111111111111111,\"#46039f\"],[0.2222222222222222,\"#7201a8\"],[0.3333333333333333,\"#9c179e\"],[0.4444444444444444,\"#bd3786\"],[0.5555555555555556,\"#d8576b\"],[0.6666666666666666,\"#ed7953\"],[0.7777777777777778,\"#fb9f3a\"],[0.8888888888888888,\"#fdca26\"],[1.0,\"#f0f921\"]],\"sequentialminus\":[[0.0,\"#0d0887\"],[0.1111111111111111,\"#46039f\"],[0.2222222222222222,\"#7201a8\"],[0.3333333333333333,\"#9c179e\"],[0.4444444444444444,\"#bd3786\"],[0.5555555555555556,\"#d8576b\"],[0.6666666666666666,\"#ed7953\"],[0.7777777777777778,\"#fb9f3a\"],[0.8888888888888888,\"#fdca26\"],[1.0,\"#f0f921\"]],\"diverging\":[[0,\"#8e0152\"],[0.1,\"#c51b7d\"],[0.2,\"#de77ae\"],[0.3,\"#f1b6da\"],[0.4,\"#fde0ef\"],[0.5,\"#f7f7f7\"],[0.6,\"#e6f5d0\"],[0.7,\"#b8e186\"],[0.8,\"#7fbc41\"],[0.9,\"#4d9221\"],[1,\"#276419\"]]},\"xaxis\":{\"gridcolor\":\"white\",\"linecolor\":\"white\",\"ticks\":\"\",\"title\":{\"standoff\":15},\"zerolinecolor\":\"white\",\"automargin\":true,\"zerolinewidth\":2},\"yaxis\":{\"gridcolor\":\"white\",\"linecolor\":\"white\",\"ticks\":\"\",\"title\":{\"standoff\":15},\"zerolinecolor\":\"white\",\"automargin\":true,\"zerolinewidth\":2},\"scene\":{\"xaxis\":{\"backgroundcolor\":\"#E5ECF6\",\"gridcolor\":\"white\",\"linecolor\":\"white\",\"showbackground\":true,\"ticks\":\"\",\"zerolinecolor\":\"white\",\"gridwidth\":2},\"yaxis\":{\"backgroundcolor\":\"#E5ECF6\",\"gridcolor\":\"white\",\"linecolor\":\"white\",\"showbackground\":true,\"ticks\":\"\",\"zerolinecolor\":\"white\",\"gridwidth\":2},\"zaxis\":{\"backgroundcolor\":\"#E5ECF6\",\"gridcolor\":\"white\",\"linecolor\":\"white\",\"showbackground\":true,\"ticks\":\"\",\"zerolinecolor\":\"white\",\"gridwidth\":2}},\"shapedefaults\":{\"line\":{\"color\":\"#2a3f5f\"}},\"annotationdefaults\":{\"arrowcolor\":\"#2a3f5f\",\"arrowhead\":0,\"arrowwidth\":1},\"geo\":{\"bgcolor\":\"white\",\"landcolor\":\"#E5ECF6\",\"subunitcolor\":\"white\",\"showland\":true,\"showlakes\":true,\"lakecolor\":\"white\"},\"title\":{\"x\":0.05},\"mapbox\":{\"style\":\"light\"}}},\"legend\":{\"tracegroupgap\":0},\"margin\":{\"t\":60},\"uniformtext\":{\"minsize\":24}},                        {\"responsive\": true}                    ).then(function(){\n",
              "                            \n",
              "var gd = document.getElementById('7ea48c5e-bb07-422a-a650-43a23b6f8d5a');\n",
              "var x = new MutationObserver(function (mutations, observer) {{\n",
              "        var display = window.getComputedStyle(gd).display;\n",
              "        if (!display || display === 'none') {{\n",
              "            console.log([gd, 'removed!']);\n",
              "            Plotly.purge(gd);\n",
              "            observer.disconnect();\n",
              "        }}\n",
              "}});\n",
              "\n",
              "// Listen for the removal of the full notebook cells\n",
              "var notebookContainer = gd.closest('#notebook-container');\n",
              "if (notebookContainer) {{\n",
              "    x.observe(notebookContainer, {childList: true});\n",
              "}}\n",
              "\n",
              "// Listen for the clearing of the current output cell\n",
              "var outputEl = gd.closest('.output');\n",
              "if (outputEl) {{\n",
              "    x.observe(outputEl, {childList: true});\n",
              "}}\n",
              "\n",
              "                        })                };                            </script>        </div>\n",
              "</body>\n",
              "</html>"
            ]
          },
          "metadata": {}
        },
        {
          "output_type": "execute_result",
          "data": {
            "text/plain": [
              "'https://plotly.com/~Emilymc/3/'"
            ],
            "application/vnd.google.colaboratory.intrinsic+json": {
              "type": "string"
            }
          },
          "metadata": {},
          "execution_count": 20
        }
      ]
    }
  ]
}